{
 "cells": [
  {
   "cell_type": "code",
   "execution_count": 1,
   "metadata": {},
   "outputs": [],
   "source": [
    "from test import test_models"
   ]
  },
  {
   "cell_type": "code",
   "execution_count": 2,
   "metadata": {},
   "outputs": [],
   "source": [
    "models = [\n",
    "    {\n",
    "        'model': \n",
    "            {\n",
    "                'name': 'UnetPlusPlus',\n",
    "                'downsample_target': False,\n",
    "                'load_args': \n",
    "                    {\n",
    "                        'pre_trained_name': 'imagenet', \n",
    "                        'encoder_name': 'resnet34'\n",
    "                    }\n",
    "            },\n",
    "        'checkpoint': './expirements/unet_plus_plus_baseline/checkpoint-1000',\n",
    "        'name_display': 'CE+Dice, Unet++ (resnet34)'\n",
    "    },\n",
    "    {\n",
    "        'model': \n",
    "            {\n",
    "                'name': 'UnetPlusPlus',\n",
    "                'downsample_target': False,\n",
    "                'load_args': \n",
    "                    {\n",
    "                        'pre_trained_name': 'imagenet', \n",
    "                        'encoder_name': 'resnet34',\n",
    "                    }\n",
    "            },\n",
    "        'checkpoint': './expirements/UnetPlusPlus_resnet34_CE_Boundary/checkpoint-1000/',\n",
    "        'name_display': 'CE+Boundary, Unet++ (resnet34)'\n",
    "    },\n",
    "    {\n",
    "        'model': \n",
    "            {\n",
    "                'name': 'UnetPlusPlus',\n",
    "                'downsample_target': False,\n",
    "                'load_args': \n",
    "                    {\n",
    "                        'pre_trained_name': 'imagenet', \n",
    "                        'encoder_name': 'resnet101',\n",
    "                    }\n",
    "            },\n",
    "        'checkpoint': './expirements/unet_plus_plus_resnet101/checkpoint-1000',\n",
    "        'name_display': 'CE+Dice, Unet++ (resnet101)'\n",
    "    },\n",
    "    {\n",
    "        'model': \n",
    "            {\n",
    "                'name': 'UnetPlusPlus',\n",
    "                'downsample_target': False,\n",
    "                'load_args': \n",
    "                    {\n",
    "                        'pre_trained_name': 'imagenet', \n",
    "                        'encoder_name': 'resnet101',\n",
    "                    }\n",
    "            },\n",
    "        'checkpoint': './expirements/UnetPlusPlus_resnet101_CE_Boundary/checkpoint-1000/',\n",
    "        'name_display': 'CE+Boundary, Unet++ (resnet101)'\n",
    "    },\n",
    "    {\n",
    "        'model': \n",
    "            {\n",
    "                'name': 'SegformerForSemanticSegmentation',\n",
    "                'downsample_target': False,\n",
    "                'load_args': \n",
    "                {\n",
    "                    'pre_trained_name': 'nvidia/mit-b0'\n",
    "                }\n",
    "            },\n",
    "        'checkpoint': './expirements/segformer_mit-b0/checkpoint-1000',\n",
    "        'name_display': 'CE+Dice, Segformer (nvidia/mit-b0)'\n",
    "    },  \n",
    "    {\n",
    "        'model': \n",
    "            {\n",
    "                'name': 'SegformerForSemanticSegmentation',\n",
    "                'downsample_target': False,\n",
    "                'load_args': \n",
    "                {\n",
    "                    'pre_trained_name': 'nvidia/mit-b0'\n",
    "                }\n",
    "            },\n",
    "        'checkpoint': './expirements/SegformerForSemanticSegmentation_mit-b0_CE_Boundary/checkpoint-1000/',\n",
    "        'name_display': 'CE+Boundary, Segformer (nvidia/mit-b0)'\n",
    "    },   \n",
    "]"
   ]
  },
  {
   "cell_type": "code",
   "execution_count": 3,
   "metadata": {},
   "outputs": [
    {
     "name": "stdout",
     "output_type": "stream",
     "text": [
      "WrappedUnetPlusPlus: <All keys matched successfully>\n"
     ]
    },
    {
     "name": "stderr",
     "output_type": "stream",
     "text": [
      "100%|██████████| 196/196 [00:00<00:00, 2488.58it/s]\n",
      "100%|██████████| 196/196 [00:00<00:00, 13576.49it/s]"
     ]
    },
    {
     "name": "stdout",
     "output_type": "stream",
     "text": [
      "Warning! dataset/sessile-main-Kvasir-SEG/kavsir_bboxes.json file not found, dataset will be without bboxes\n"
     ]
    },
    {
     "name": "stderr",
     "output_type": "stream",
     "text": [
      "\n",
      "getting predictions: 100%|██████████| 196/196 [00:46<00:00,  4.22it/s]\n"
     ]
    },
    {
     "name": "stdout",
     "output_type": "stream",
     "text": [
      "WrappedUnetPlusPlus: <All keys matched successfully>\n"
     ]
    },
    {
     "name": "stderr",
     "output_type": "stream",
     "text": [
      "100%|██████████| 196/196 [00:00<00:00, 2302.52it/s]\n",
      "100%|██████████| 196/196 [00:00<00:00, 1501.26it/s]\n"
     ]
    },
    {
     "name": "stdout",
     "output_type": "stream",
     "text": [
      "Warning! dataset/sessile-main-Kvasir-SEG/kavsir_bboxes.json file not found, dataset will be without bboxes\n"
     ]
    },
    {
     "name": "stderr",
     "output_type": "stream",
     "text": [
      "getting predictions: 100%|██████████| 196/196 [00:49<00:00,  3.95it/s]\n"
     ]
    },
    {
     "name": "stdout",
     "output_type": "stream",
     "text": [
      "WrappedUnetPlusPlus: <All keys matched successfully>\n"
     ]
    },
    {
     "name": "stderr",
     "output_type": "stream",
     "text": [
      "100%|██████████| 196/196 [00:00<00:00, 3094.77it/s]\n",
      "100%|██████████| 196/196 [00:00<00:00, 4083.75it/s]"
     ]
    },
    {
     "name": "stdout",
     "output_type": "stream",
     "text": [
      "Warning! dataset/sessile-main-Kvasir-SEG/kavsir_bboxes.json file not found, dataset will be without bboxes\n"
     ]
    },
    {
     "name": "stderr",
     "output_type": "stream",
     "text": [
      "\n",
      "getting predictions: 100%|██████████| 196/196 [02:23<00:00,  1.37it/s]\n"
     ]
    },
    {
     "name": "stdout",
     "output_type": "stream",
     "text": [
      "WrappedUnetPlusPlus: <All keys matched successfully>\n"
     ]
    },
    {
     "name": "stderr",
     "output_type": "stream",
     "text": [
      "100%|██████████| 196/196 [00:00<00:00, 5709.94it/s]\n",
      "100%|██████████| 196/196 [00:00<00:00, 4026.88it/s]"
     ]
    },
    {
     "name": "stdout",
     "output_type": "stream",
     "text": [
      "Warning! dataset/sessile-main-Kvasir-SEG/kavsir_bboxes.json file not found, dataset will be without bboxes\n"
     ]
    },
    {
     "name": "stderr",
     "output_type": "stream",
     "text": [
      "\n",
      "getting predictions: 100%|██████████| 196/196 [02:34<00:00,  1.27it/s]\n",
      "Some weights of the model checkpoint at nvidia/mit-b0 were not used when initializing WrappedSegformerForSemanticSegmentation: ['classifier.bias', 'classifier.weight']\n",
      "- This IS expected if you are initializing WrappedSegformerForSemanticSegmentation from the checkpoint of a model trained on another task or with another architecture (e.g. initializing a BertForSequenceClassification model from a BertForPreTraining model).\n",
      "- This IS NOT expected if you are initializing WrappedSegformerForSemanticSegmentation from the checkpoint of a model that you expect to be exactly identical (initializing a BertForSequenceClassification model from a BertForSequenceClassification model).\n",
      "Some weights of WrappedSegformerForSemanticSegmentation were not initialized from the model checkpoint at nvidia/mit-b0 and are newly initialized: ['decode_head.linear_c.2.proj.bias', 'decode_head.linear_fuse.weight', 'decode_head.linear_c.3.proj.weight', 'decode_head.classifier.bias', 'decode_head.linear_c.2.proj.weight', 'decode_head.linear_c.3.proj.bias', 'decode_head.batch_norm.running_mean', 'decode_head.linear_c.1.proj.weight', 'decode_head.linear_c.1.proj.bias', 'decode_head.linear_c.0.proj.bias', 'decode_head.batch_norm.running_var', 'decode_head.linear_c.0.proj.weight', 'decode_head.batch_norm.weight', 'decode_head.classifier.weight', 'decode_head.batch_norm.num_batches_tracked', 'decode_head.batch_norm.bias']\n",
      "You should probably TRAIN this model on a down-stream task to be able to use it for predictions and inference.\n"
     ]
    },
    {
     "name": "stdout",
     "output_type": "stream",
     "text": [
      "WrappedSegformerForSemanticSegmentation: <All keys matched successfully>\n"
     ]
    },
    {
     "name": "stderr",
     "output_type": "stream",
     "text": [
      "100%|██████████| 196/196 [00:00<00:00, 4602.16it/s]\n",
      "100%|██████████| 196/196 [00:00<00:00, 6368.20it/s]\n"
     ]
    },
    {
     "name": "stdout",
     "output_type": "stream",
     "text": [
      "Warning! dataset/sessile-main-Kvasir-SEG/kavsir_bboxes.json file not found, dataset will be without bboxes\n"
     ]
    },
    {
     "name": "stderr",
     "output_type": "stream",
     "text": [
      "getting predictions: 100%|██████████| 196/196 [00:22<00:00,  8.78it/s]\n",
      "Some weights of the model checkpoint at nvidia/mit-b0 were not used when initializing WrappedSegformerForSemanticSegmentation: ['classifier.bias', 'classifier.weight']\n",
      "- This IS expected if you are initializing WrappedSegformerForSemanticSegmentation from the checkpoint of a model trained on another task or with another architecture (e.g. initializing a BertForSequenceClassification model from a BertForPreTraining model).\n",
      "- This IS NOT expected if you are initializing WrappedSegformerForSemanticSegmentation from the checkpoint of a model that you expect to be exactly identical (initializing a BertForSequenceClassification model from a BertForSequenceClassification model).\n",
      "Some weights of WrappedSegformerForSemanticSegmentation were not initialized from the model checkpoint at nvidia/mit-b0 and are newly initialized: ['decode_head.linear_c.2.proj.bias', 'decode_head.linear_fuse.weight', 'decode_head.linear_c.3.proj.weight', 'decode_head.classifier.bias', 'decode_head.linear_c.2.proj.weight', 'decode_head.linear_c.3.proj.bias', 'decode_head.batch_norm.running_mean', 'decode_head.linear_c.1.proj.weight', 'decode_head.linear_c.1.proj.bias', 'decode_head.linear_c.0.proj.bias', 'decode_head.batch_norm.running_var', 'decode_head.linear_c.0.proj.weight', 'decode_head.batch_norm.weight', 'decode_head.classifier.weight', 'decode_head.batch_norm.num_batches_tracked', 'decode_head.batch_norm.bias']\n",
      "You should probably TRAIN this model on a down-stream task to be able to use it for predictions and inference.\n"
     ]
    },
    {
     "name": "stdout",
     "output_type": "stream",
     "text": [
      "WrappedSegformerForSemanticSegmentation: <All keys matched successfully>\n"
     ]
    },
    {
     "name": "stderr",
     "output_type": "stream",
     "text": [
      "100%|██████████| 196/196 [00:00<00:00, 9780.65it/s]\n",
      "100%|██████████| 196/196 [00:00<00:00, 10284.79it/s]\n"
     ]
    },
    {
     "name": "stdout",
     "output_type": "stream",
     "text": [
      "Warning! dataset/sessile-main-Kvasir-SEG/kavsir_bboxes.json file not found, dataset will be without bboxes\n"
     ]
    },
    {
     "name": "stderr",
     "output_type": "stream",
     "text": [
      "getting predictions: 100%|██████████| 196/196 [00:24<00:00,  7.91it/s]\n"
     ]
    }
   ],
   "source": [
    "metrics = test_models(models=models, resource='./test_config.yaml')"
   ]
  },
  {
   "cell_type": "code",
   "execution_count": 14,
   "metadata": {},
   "outputs": [
    {
     "name": "stdout",
     "output_type": "stream",
     "text": [
      "+------------------------------------------------+--------+----------------+----------------+----------------+----------------+----------------+-------+---------------+---------------+---------------+---------------+---------------+\n",
      "| model                                          |   dice |   dice_group_0 |   dice_group_1 |   dice_group_2 |   dice_group_3 |   dice_group_4 |   iou |   iou_group_0 |   iou_group_1 |   iou_group_2 |   iou_group_3 |   iou_group_4 |\n",
      "+================================================+========+================+================+================+================+================+=======+===============+===============+===============+===============+===============+\n",
      "| CE+Dice, Unet++ (resnet34) (26.1M)             |  93.33 |          92.44 |          96.65 |          96.99 |          96.91 |          97.9  | 87.8  |         86.25 |         93.53 |         94.19 |         94.12 |         95.88 |\n",
      "+------------------------------------------------+--------+----------------+----------------+----------------+----------------+----------------+-------+---------------+---------------+---------------+---------------+---------------+\n",
      "| CE+Boundary, Unet++ (resnet34) (26.1M)         |  91.74 |          91.02 |          95.55 |          92.27 |          93.9  |          97.26 | 85.54 |         84.33 |         91.52 |         87.37 |         89.17 |         94.67 |\n",
      "+------------------------------------------------+--------+----------------+----------------+----------------+----------------+----------------+-------+---------------+---------------+---------------+---------------+---------------+\n",
      "| CE+Dice, Unet++ (resnet101) (68.0M)            |  93.14 |          92.35 |          96.41 |          96.01 |          95.32 |          98.54 | 87.82 |         86.53 |         93.12 |         92.56 |         91.66 |         97.11 |\n",
      "+------------------------------------------------+--------+----------------+----------------+----------------+----------------+----------------+-------+---------------+---------------+---------------+---------------+---------------+\n",
      "| CE+Boundary, Unet++ (resnet101) (68.0M)        |  92.91 |          92.03 |          96.04 |          96.69 |          96.75 |          97.32 | 87.11 |         85.61 |         92.41 |         93.63 |         93.73 |         94.79 |\n",
      "+------------------------------------------------+--------+----------------+----------------+----------------+----------------+----------------+-------+---------------+---------------+---------------+---------------+---------------+\n",
      "| CE+Dice, Segformer (nvidia/mit-b0) (3.71M)     |  89.12 |          87.76 |          93.89 |          95.01 |          95.08 |          97.09 | 81.68 |         79.66 |         88.66 |         90.57 |         90.63 |         94.35 |\n",
      "+------------------------------------------------+--------+----------------+----------------+----------------+----------------+----------------+-------+---------------+---------------+---------------+---------------+---------------+\n",
      "| CE+Boundary, Segformer (nvidia/mit-b0) (3.71M) |  91.16 |          90.59 |          92.94 |          93.88 |          94.05 |          95.27 | 84.41 |         83.46 |         87.53 |         88.69 |         88.82 |         90.96 |\n",
      "+------------------------------------------------+--------+----------------+----------------+----------------+----------------+----------------+-------+---------------+---------------+---------------+---------------+---------------+\n"
     ]
    }
   ],
   "source": [
    "from tabulate import tabulate\n",
    "\n",
    "head_metrics = list(metrics[0]['metrics'].keys())\n",
    "head_metrics.sort()\n",
    "headers = ['model'] + head_metrics\n",
    "\n",
    "table = [[metrics[i]['model_name'] + f' ({metrics[i][\"params\"]/1e+6:.3}M)'] + [f\"{metrics[i]['metrics'][k]*100:.2f}\" for k in headers[1:]] for i in range(len(metrics))]\n",
    "print(tabulate(table, headers=headers, tablefmt=\"grid\"))"
   ]
  },
  {
   "cell_type": "code",
   "execution_count": 15,
   "metadata": {},
   "outputs": [],
   "source": [
    "import pandas as pd\n",
    "\n",
    "df = pd.DataFrame.from_records(table, columns=headers)\n",
    "# df['model'] = df['model'].apply(lambda x: x.split('Wrapped')[-1])\n",
    "# df = df.to_html(index=False)\n",
    "\n",
    "df_dice = df[['model'] + [k for k in df.columns if 'dice' in k]]\n",
    "df_iou = df[['model'] + [k for k in df.columns if 'iou' in k]]"
   ]
  },
  {
   "cell_type": "code",
   "execution_count": 21,
   "metadata": {},
   "outputs": [
    {
     "data": {
      "text/html": [
       "<style type=\"text/css\">\n",
       "#T_5cbb1_row0_col1, #T_5cbb1_row0_col2, #T_5cbb1_row0_col3, #T_5cbb1_row0_col4, #T_5cbb1_row0_col5, #T_5cbb1_row2_col6 {\n",
       "  background-color: #006837;\n",
       "  color: #f1f1f1;\n",
       "}\n",
       "#T_5cbb1_row0_col6 {\n",
       "  background-color: #1e9a51;\n",
       "  color: #f1f1f1;\n",
       "}\n",
       "#T_5cbb1_row1_col1, #T_5cbb1_row3_col6 {\n",
       "  background-color: #6bbf64;\n",
       "  color: #000000;\n",
       "}\n",
       "#T_5cbb1_row1_col2 {\n",
       "  background-color: #4eb15d;\n",
       "  color: #f1f1f1;\n",
       "}\n",
       "#T_5cbb1_row1_col3 {\n",
       "  background-color: #4bb05c;\n",
       "  color: #f1f1f1;\n",
       "}\n",
       "#T_5cbb1_row1_col4, #T_5cbb1_row1_col5, #T_5cbb1_row4_col1, #T_5cbb1_row4_col2, #T_5cbb1_row5_col3, #T_5cbb1_row5_col6 {\n",
       "  background-color: #feeda1;\n",
       "  color: #000000;\n",
       "}\n",
       "#T_5cbb1_row1_col6 {\n",
       "  background-color: #70c164;\n",
       "  color: #000000;\n",
       "}\n",
       "#T_5cbb1_row2_col1 {\n",
       "  background-color: #06733d;\n",
       "  color: #f1f1f1;\n",
       "}\n",
       "#T_5cbb1_row2_col2 {\n",
       "  background-color: #026c39;\n",
       "  color: #f1f1f1;\n",
       "}\n",
       "#T_5cbb1_row2_col3, #T_5cbb1_row3_col4 {\n",
       "  background-color: #097940;\n",
       "  color: #f1f1f1;\n",
       "}\n",
       "#T_5cbb1_row2_col4 {\n",
       "  background-color: #249d53;\n",
       "  color: #f1f1f1;\n",
       "}\n",
       "#T_5cbb1_row2_col5 {\n",
       "  background-color: #a2d76a;\n",
       "  color: #000000;\n",
       "}\n",
       "#T_5cbb1_row3_col1 {\n",
       "  background-color: #0e8245;\n",
       "  color: #f1f1f1;\n",
       "}\n",
       "#T_5cbb1_row3_col2 {\n",
       "  background-color: #0c7f43;\n",
       "  color: #f1f1f1;\n",
       "}\n",
       "#T_5cbb1_row3_col3 {\n",
       "  background-color: #17934e;\n",
       "  color: #f1f1f1;\n",
       "}\n",
       "#T_5cbb1_row3_col5 {\n",
       "  background-color: #07753e;\n",
       "  color: #f1f1f1;\n",
       "}\n",
       "#T_5cbb1_row4_col3 {\n",
       "  background-color: #ddf191;\n",
       "  color: #000000;\n",
       "}\n",
       "#T_5cbb1_row4_col4 {\n",
       "  background-color: #7ac665;\n",
       "  color: #000000;\n",
       "}\n",
       "#T_5cbb1_row4_col5 {\n",
       "  background-color: #b9e176;\n",
       "  color: #000000;\n",
       "}\n",
       "#T_5cbb1_row4_col6 {\n",
       "  background-color: #84ca66;\n",
       "  color: #000000;\n",
       "}\n",
       "#T_5cbb1_row5_col1 {\n",
       "  background-color: #9dd569;\n",
       "  color: #000000;\n",
       "}\n",
       "#T_5cbb1_row5_col2 {\n",
       "  background-color: #73c264;\n",
       "  color: #000000;\n",
       "}\n",
       "#T_5cbb1_row5_col4 {\n",
       "  background-color: #c7e77f;\n",
       "  color: #000000;\n",
       "}\n",
       "#T_5cbb1_row5_col5 {\n",
       "  background-color: #fff6b0;\n",
       "  color: #000000;\n",
       "}\n",
       "</style>\n",
       "<table id=\"T_5cbb1\">\n",
       "  <thead>\n",
       "    <tr>\n",
       "      <th class=\"blank level0\" >&nbsp;</th>\n",
       "      <th id=\"T_5cbb1_level0_col0\" class=\"col_heading level0 col0\" >model</th>\n",
       "      <th id=\"T_5cbb1_level0_col1\" class=\"col_heading level0 col1\" >dice</th>\n",
       "      <th id=\"T_5cbb1_level0_col2\" class=\"col_heading level0 col2\" >dice_group_0</th>\n",
       "      <th id=\"T_5cbb1_level0_col3\" class=\"col_heading level0 col3\" >dice_group_1</th>\n",
       "      <th id=\"T_5cbb1_level0_col4\" class=\"col_heading level0 col4\" >dice_group_2</th>\n",
       "      <th id=\"T_5cbb1_level0_col5\" class=\"col_heading level0 col5\" >dice_group_3</th>\n",
       "      <th id=\"T_5cbb1_level0_col6\" class=\"col_heading level0 col6\" >dice_group_4</th>\n",
       "    </tr>\n",
       "  </thead>\n",
       "  <tbody>\n",
       "    <tr>\n",
       "      <th id=\"T_5cbb1_level0_row0\" class=\"row_heading level0 row0\" >0</th>\n",
       "      <td id=\"T_5cbb1_row0_col0\" class=\"data row0 col0\" >CE+Dice, Unet++ (resnet34) (26.1M)</td>\n",
       "      <td id=\"T_5cbb1_row0_col1\" class=\"data row0 col1\" >93.33</td>\n",
       "      <td id=\"T_5cbb1_row0_col2\" class=\"data row0 col2\" >92.44</td>\n",
       "      <td id=\"T_5cbb1_row0_col3\" class=\"data row0 col3\" >96.65</td>\n",
       "      <td id=\"T_5cbb1_row0_col4\" class=\"data row0 col4\" >96.99</td>\n",
       "      <td id=\"T_5cbb1_row0_col5\" class=\"data row0 col5\" >96.91</td>\n",
       "      <td id=\"T_5cbb1_row0_col6\" class=\"data row0 col6\" >97.90</td>\n",
       "    </tr>\n",
       "    <tr>\n",
       "      <th id=\"T_5cbb1_level0_row1\" class=\"row_heading level0 row1\" >1</th>\n",
       "      <td id=\"T_5cbb1_row1_col0\" class=\"data row1 col0\" >CE+Boundary, Unet++ (resnet34) (26.1M)</td>\n",
       "      <td id=\"T_5cbb1_row1_col1\" class=\"data row1 col1\" >91.74</td>\n",
       "      <td id=\"T_5cbb1_row1_col2\" class=\"data row1 col2\" >91.02</td>\n",
       "      <td id=\"T_5cbb1_row1_col3\" class=\"data row1 col3\" >95.55</td>\n",
       "      <td id=\"T_5cbb1_row1_col4\" class=\"data row1 col4\" >92.27</td>\n",
       "      <td id=\"T_5cbb1_row1_col5\" class=\"data row1 col5\" >93.90</td>\n",
       "      <td id=\"T_5cbb1_row1_col6\" class=\"data row1 col6\" >97.26</td>\n",
       "    </tr>\n",
       "    <tr>\n",
       "      <th id=\"T_5cbb1_level0_row2\" class=\"row_heading level0 row2\" >2</th>\n",
       "      <td id=\"T_5cbb1_row2_col0\" class=\"data row2 col0\" >CE+Dice, Unet++ (resnet101) (68.0M)</td>\n",
       "      <td id=\"T_5cbb1_row2_col1\" class=\"data row2 col1\" >93.14</td>\n",
       "      <td id=\"T_5cbb1_row2_col2\" class=\"data row2 col2\" >92.35</td>\n",
       "      <td id=\"T_5cbb1_row2_col3\" class=\"data row2 col3\" >96.41</td>\n",
       "      <td id=\"T_5cbb1_row2_col4\" class=\"data row2 col4\" >96.01</td>\n",
       "      <td id=\"T_5cbb1_row2_col5\" class=\"data row2 col5\" >95.32</td>\n",
       "      <td id=\"T_5cbb1_row2_col6\" class=\"data row2 col6\" >98.54</td>\n",
       "    </tr>\n",
       "    <tr>\n",
       "      <th id=\"T_5cbb1_level0_row3\" class=\"row_heading level0 row3\" >3</th>\n",
       "      <td id=\"T_5cbb1_row3_col0\" class=\"data row3 col0\" >CE+Boundary, Unet++ (resnet101) (68.0M)</td>\n",
       "      <td id=\"T_5cbb1_row3_col1\" class=\"data row3 col1\" >92.91</td>\n",
       "      <td id=\"T_5cbb1_row3_col2\" class=\"data row3 col2\" >92.03</td>\n",
       "      <td id=\"T_5cbb1_row3_col3\" class=\"data row3 col3\" >96.04</td>\n",
       "      <td id=\"T_5cbb1_row3_col4\" class=\"data row3 col4\" >96.69</td>\n",
       "      <td id=\"T_5cbb1_row3_col5\" class=\"data row3 col5\" >96.75</td>\n",
       "      <td id=\"T_5cbb1_row3_col6\" class=\"data row3 col6\" >97.32</td>\n",
       "    </tr>\n",
       "    <tr>\n",
       "      <th id=\"T_5cbb1_level0_row4\" class=\"row_heading level0 row4\" >4</th>\n",
       "      <td id=\"T_5cbb1_row4_col0\" class=\"data row4 col0\" >CE+Dice, Segformer (nvidia/mit-b0) (3.71M)</td>\n",
       "      <td id=\"T_5cbb1_row4_col1\" class=\"data row4 col1\" >89.12</td>\n",
       "      <td id=\"T_5cbb1_row4_col2\" class=\"data row4 col2\" >87.76</td>\n",
       "      <td id=\"T_5cbb1_row4_col3\" class=\"data row4 col3\" >93.89</td>\n",
       "      <td id=\"T_5cbb1_row4_col4\" class=\"data row4 col4\" >95.01</td>\n",
       "      <td id=\"T_5cbb1_row4_col5\" class=\"data row4 col5\" >95.08</td>\n",
       "      <td id=\"T_5cbb1_row4_col6\" class=\"data row4 col6\" >97.09</td>\n",
       "    </tr>\n",
       "    <tr>\n",
       "      <th id=\"T_5cbb1_level0_row5\" class=\"row_heading level0 row5\" >5</th>\n",
       "      <td id=\"T_5cbb1_row5_col0\" class=\"data row5 col0\" >CE+Boundary, Segformer (nvidia/mit-b0) (3.71M)</td>\n",
       "      <td id=\"T_5cbb1_row5_col1\" class=\"data row5 col1\" >91.16</td>\n",
       "      <td id=\"T_5cbb1_row5_col2\" class=\"data row5 col2\" >90.59</td>\n",
       "      <td id=\"T_5cbb1_row5_col3\" class=\"data row5 col3\" >92.94</td>\n",
       "      <td id=\"T_5cbb1_row5_col4\" class=\"data row5 col4\" >93.88</td>\n",
       "      <td id=\"T_5cbb1_row5_col5\" class=\"data row5 col5\" >94.05</td>\n",
       "      <td id=\"T_5cbb1_row5_col6\" class=\"data row5 col6\" >95.27</td>\n",
       "    </tr>\n",
       "  </tbody>\n",
       "</table>\n"
      ],
      "text/plain": [
       "<pandas.io.formats.style.Styler at 0x7f5f30d23460>"
      ]
     },
     "execution_count": 21,
     "metadata": {},
     "output_type": "execute_result"
    }
   ],
   "source": [
    "df_dice.style.background_gradient(subset=list(df_dice.columns)[1:], cmap='RdYlGn', low=0.8)"
   ]
  },
  {
   "cell_type": "code",
   "execution_count": 23,
   "metadata": {},
   "outputs": [
    {
     "data": {
      "text/html": [
       "<style type=\"text/css\">\n",
       "#T_7f80a_row0_col1, #T_7f80a_row0_col3, #T_7f80a_row0_col4, #T_7f80a_row0_col5, #T_7f80a_row2_col1, #T_7f80a_row2_col2, #T_7f80a_row2_col6 {\n",
       "  background-color: #006837;\n",
       "  color: #f1f1f1;\n",
       "}\n",
       "#T_7f80a_row0_col2 {\n",
       "  background-color: #06733d;\n",
       "  color: #f1f1f1;\n",
       "}\n",
       "#T_7f80a_row0_col6 {\n",
       "  background-color: #279f53;\n",
       "  color: #f1f1f1;\n",
       "}\n",
       "#T_7f80a_row1_col1 {\n",
       "  background-color: #70c164;\n",
       "  color: #000000;\n",
       "}\n",
       "#T_7f80a_row1_col2 {\n",
       "  background-color: #5db961;\n",
       "  color: #f1f1f1;\n",
       "}\n",
       "#T_7f80a_row1_col3 {\n",
       "  background-color: #63bc62;\n",
       "  color: #f1f1f1;\n",
       "}\n",
       "#T_7f80a_row1_col4, #T_7f80a_row4_col1, #T_7f80a_row4_col2, #T_7f80a_row5_col3, #T_7f80a_row5_col5, #T_7f80a_row5_col6 {\n",
       "  background-color: #fee491;\n",
       "  color: #000000;\n",
       "}\n",
       "#T_7f80a_row1_col5 {\n",
       "  background-color: #fff0a6;\n",
       "  color: #000000;\n",
       "}\n",
       "#T_7f80a_row1_col6 {\n",
       "  background-color: #7ac665;\n",
       "  color: #000000;\n",
       "}\n",
       "#T_7f80a_row2_col3 {\n",
       "  background-color: #0a7b41;\n",
       "  color: #f1f1f1;\n",
       "}\n",
       "#T_7f80a_row2_col4 {\n",
       "  background-color: #36a657;\n",
       "  color: #f1f1f1;\n",
       "}\n",
       "#T_7f80a_row2_col5 {\n",
       "  background-color: #93d168;\n",
       "  color: #000000;\n",
       "}\n",
       "#T_7f80a_row3_col1 {\n",
       "  background-color: #118848;\n",
       "  color: #f1f1f1;\n",
       "}\n",
       "#T_7f80a_row3_col2 {\n",
       "  background-color: #148e4b;\n",
       "  color: #f1f1f1;\n",
       "}\n",
       "#T_7f80a_row3_col3 {\n",
       "  background-color: #219c52;\n",
       "  color: #f1f1f1;\n",
       "}\n",
       "#T_7f80a_row3_col4 {\n",
       "  background-color: #0c7f43;\n",
       "  color: #f1f1f1;\n",
       "}\n",
       "#T_7f80a_row3_col5 {\n",
       "  background-color: #0b7d42;\n",
       "  color: #f1f1f1;\n",
       "}\n",
       "#T_7f80a_row3_col6 {\n",
       "  background-color: #73c264;\n",
       "  color: #000000;\n",
       "}\n",
       "#T_7f80a_row4_col3 {\n",
       "  background-color: #f7fcb4;\n",
       "  color: #000000;\n",
       "}\n",
       "#T_7f80a_row4_col4 {\n",
       "  background-color: #abdb6d;\n",
       "  color: #000000;\n",
       "}\n",
       "#T_7f80a_row4_col5 {\n",
       "  background-color: #d3ec87;\n",
       "  color: #000000;\n",
       "}\n",
       "#T_7f80a_row4_col6, #T_7f80a_row5_col2 {\n",
       "  background-color: #8ecf67;\n",
       "  color: #000000;\n",
       "}\n",
       "#T_7f80a_row5_col1 {\n",
       "  background-color: #b3df72;\n",
       "  color: #000000;\n",
       "}\n",
       "#T_7f80a_row5_col4 {\n",
       "  background-color: #f5fbb2;\n",
       "  color: #000000;\n",
       "}\n",
       "</style>\n",
       "<table id=\"T_7f80a\">\n",
       "  <thead>\n",
       "    <tr>\n",
       "      <th class=\"blank level0\" >&nbsp;</th>\n",
       "      <th id=\"T_7f80a_level0_col0\" class=\"col_heading level0 col0\" >model</th>\n",
       "      <th id=\"T_7f80a_level0_col1\" class=\"col_heading level0 col1\" >iou</th>\n",
       "      <th id=\"T_7f80a_level0_col2\" class=\"col_heading level0 col2\" >iou_group_0</th>\n",
       "      <th id=\"T_7f80a_level0_col3\" class=\"col_heading level0 col3\" >iou_group_1</th>\n",
       "      <th id=\"T_7f80a_level0_col4\" class=\"col_heading level0 col4\" >iou_group_2</th>\n",
       "      <th id=\"T_7f80a_level0_col5\" class=\"col_heading level0 col5\" >iou_group_3</th>\n",
       "      <th id=\"T_7f80a_level0_col6\" class=\"col_heading level0 col6\" >iou_group_4</th>\n",
       "    </tr>\n",
       "  </thead>\n",
       "  <tbody>\n",
       "    <tr>\n",
       "      <th id=\"T_7f80a_level0_row0\" class=\"row_heading level0 row0\" >0</th>\n",
       "      <td id=\"T_7f80a_row0_col0\" class=\"data row0 col0\" >CE+Dice, Unet++ (resnet34) (26.1M)</td>\n",
       "      <td id=\"T_7f80a_row0_col1\" class=\"data row0 col1\" >87.80</td>\n",
       "      <td id=\"T_7f80a_row0_col2\" class=\"data row0 col2\" >86.25</td>\n",
       "      <td id=\"T_7f80a_row0_col3\" class=\"data row0 col3\" >93.53</td>\n",
       "      <td id=\"T_7f80a_row0_col4\" class=\"data row0 col4\" >94.19</td>\n",
       "      <td id=\"T_7f80a_row0_col5\" class=\"data row0 col5\" >94.12</td>\n",
       "      <td id=\"T_7f80a_row0_col6\" class=\"data row0 col6\" >95.88</td>\n",
       "    </tr>\n",
       "    <tr>\n",
       "      <th id=\"T_7f80a_level0_row1\" class=\"row_heading level0 row1\" >1</th>\n",
       "      <td id=\"T_7f80a_row1_col0\" class=\"data row1 col0\" >CE+Boundary, Unet++ (resnet34) (26.1M)</td>\n",
       "      <td id=\"T_7f80a_row1_col1\" class=\"data row1 col1\" >85.54</td>\n",
       "      <td id=\"T_7f80a_row1_col2\" class=\"data row1 col2\" >84.33</td>\n",
       "      <td id=\"T_7f80a_row1_col3\" class=\"data row1 col3\" >91.52</td>\n",
       "      <td id=\"T_7f80a_row1_col4\" class=\"data row1 col4\" >87.37</td>\n",
       "      <td id=\"T_7f80a_row1_col5\" class=\"data row1 col5\" >89.17</td>\n",
       "      <td id=\"T_7f80a_row1_col6\" class=\"data row1 col6\" >94.67</td>\n",
       "    </tr>\n",
       "    <tr>\n",
       "      <th id=\"T_7f80a_level0_row2\" class=\"row_heading level0 row2\" >2</th>\n",
       "      <td id=\"T_7f80a_row2_col0\" class=\"data row2 col0\" >CE+Dice, Unet++ (resnet101) (68.0M)</td>\n",
       "      <td id=\"T_7f80a_row2_col1\" class=\"data row2 col1\" >87.82</td>\n",
       "      <td id=\"T_7f80a_row2_col2\" class=\"data row2 col2\" >86.53</td>\n",
       "      <td id=\"T_7f80a_row2_col3\" class=\"data row2 col3\" >93.12</td>\n",
       "      <td id=\"T_7f80a_row2_col4\" class=\"data row2 col4\" >92.56</td>\n",
       "      <td id=\"T_7f80a_row2_col5\" class=\"data row2 col5\" >91.66</td>\n",
       "      <td id=\"T_7f80a_row2_col6\" class=\"data row2 col6\" >97.11</td>\n",
       "    </tr>\n",
       "    <tr>\n",
       "      <th id=\"T_7f80a_level0_row3\" class=\"row_heading level0 row3\" >3</th>\n",
       "      <td id=\"T_7f80a_row3_col0\" class=\"data row3 col0\" >CE+Boundary, Unet++ (resnet101) (68.0M)</td>\n",
       "      <td id=\"T_7f80a_row3_col1\" class=\"data row3 col1\" >87.11</td>\n",
       "      <td id=\"T_7f80a_row3_col2\" class=\"data row3 col2\" >85.61</td>\n",
       "      <td id=\"T_7f80a_row3_col3\" class=\"data row3 col3\" >92.41</td>\n",
       "      <td id=\"T_7f80a_row3_col4\" class=\"data row3 col4\" >93.63</td>\n",
       "      <td id=\"T_7f80a_row3_col5\" class=\"data row3 col5\" >93.73</td>\n",
       "      <td id=\"T_7f80a_row3_col6\" class=\"data row3 col6\" >94.79</td>\n",
       "    </tr>\n",
       "    <tr>\n",
       "      <th id=\"T_7f80a_level0_row4\" class=\"row_heading level0 row4\" >4</th>\n",
       "      <td id=\"T_7f80a_row4_col0\" class=\"data row4 col0\" >CE+Dice, Segformer (nvidia/mit-b0) (3.71M)</td>\n",
       "      <td id=\"T_7f80a_row4_col1\" class=\"data row4 col1\" >81.68</td>\n",
       "      <td id=\"T_7f80a_row4_col2\" class=\"data row4 col2\" >79.66</td>\n",
       "      <td id=\"T_7f80a_row4_col3\" class=\"data row4 col3\" >88.66</td>\n",
       "      <td id=\"T_7f80a_row4_col4\" class=\"data row4 col4\" >90.57</td>\n",
       "      <td id=\"T_7f80a_row4_col5\" class=\"data row4 col5\" >90.63</td>\n",
       "      <td id=\"T_7f80a_row4_col6\" class=\"data row4 col6\" >94.35</td>\n",
       "    </tr>\n",
       "    <tr>\n",
       "      <th id=\"T_7f80a_level0_row5\" class=\"row_heading level0 row5\" >5</th>\n",
       "      <td id=\"T_7f80a_row5_col0\" class=\"data row5 col0\" >CE+Boundary, Segformer (nvidia/mit-b0) (3.71M)</td>\n",
       "      <td id=\"T_7f80a_row5_col1\" class=\"data row5 col1\" >84.41</td>\n",
       "      <td id=\"T_7f80a_row5_col2\" class=\"data row5 col2\" >83.46</td>\n",
       "      <td id=\"T_7f80a_row5_col3\" class=\"data row5 col3\" >87.53</td>\n",
       "      <td id=\"T_7f80a_row5_col4\" class=\"data row5 col4\" >88.69</td>\n",
       "      <td id=\"T_7f80a_row5_col5\" class=\"data row5 col5\" >88.82</td>\n",
       "      <td id=\"T_7f80a_row5_col6\" class=\"data row5 col6\" >90.96</td>\n",
       "    </tr>\n",
       "  </tbody>\n",
       "</table>\n"
      ],
      "text/plain": [
       "<pandas.io.formats.style.Styler at 0x7f5f30caeb80>"
      ]
     },
     "execution_count": 23,
     "metadata": {},
     "output_type": "execute_result"
    }
   ],
   "source": [
    "df_iou.style.background_gradient(subset=list(df_iou.columns)[1:], cmap='RdYlGn', low=0.7)"
   ]
  },
  {
   "cell_type": "code",
   "execution_count": 36,
   "metadata": {},
   "outputs": [
    {
     "name": "stdout",
     "output_type": "stream",
     "text": [
      "<table border=\"1\" class=\"dataframe\">\n",
      "  <thead>\n",
      "    <tr style=\"text-align: right;\">\n",
      "      <th></th>\n",
      "      <th>model</th>\n",
      "      <th>iou</th>\n",
      "      <th>iou_group_0</th>\n",
      "      <th>iou_group_1</th>\n",
      "      <th>iou_group_2</th>\n",
      "      <th>iou_group_3</th>\n",
      "      <th>iou_group_4</th>\n",
      "    </tr>\n",
      "  </thead>\n",
      "  <tbody>\n",
      "    <tr>\n",
      "      <th>0</th>\n",
      "      <td>CE+Dice, Unet++ (resnet34) (26.1M)</td>\n",
      "      <td>87.80</td>\n",
      "      <td>86.25</td>\n",
      "      <td>93.53</td>\n",
      "      <td>94.19</td>\n",
      "      <td>94.12</td>\n",
      "      <td>95.88</td>\n",
      "    </tr>\n",
      "    <tr>\n",
      "      <th>1</th>\n",
      "      <td>CE+Boundary, Unet++ (resnet34) (26.1M)</td>\n",
      "      <td>85.54</td>\n",
      "      <td>84.33</td>\n",
      "      <td>91.52</td>\n",
      "      <td>87.37</td>\n",
      "      <td>89.17</td>\n",
      "      <td>94.67</td>\n",
      "    </tr>\n",
      "    <tr>\n",
      "      <th>2</th>\n",
      "      <td>CE+Dice, Unet++ (resnet101) (68.0M)</td>\n",
      "      <td>87.82</td>\n",
      "      <td>86.53</td>\n",
      "      <td>93.12</td>\n",
      "      <td>92.56</td>\n",
      "      <td>91.66</td>\n",
      "      <td>97.11</td>\n",
      "    </tr>\n",
      "    <tr>\n",
      "      <th>3</th>\n",
      "      <td>CE+Boundary, Unet++ (resnet101) (68.0M)</td>\n",
      "      <td>87.11</td>\n",
      "      <td>85.61</td>\n",
      "      <td>92.41</td>\n",
      "      <td>93.63</td>\n",
      "      <td>93.73</td>\n",
      "      <td>94.79</td>\n",
      "    </tr>\n",
      "    <tr>\n",
      "      <th>4</th>\n",
      "      <td>CE+Dice, Segformer (nvidia/mit-b0) (3.71M)</td>\n",
      "      <td>81.68</td>\n",
      "      <td>79.66</td>\n",
      "      <td>88.66</td>\n",
      "      <td>90.57</td>\n",
      "      <td>90.63</td>\n",
      "      <td>94.35</td>\n",
      "    </tr>\n",
      "    <tr>\n",
      "      <th>5</th>\n",
      "      <td>CE+Boundary, Segformer (nvidia/mit-b0) (3.71M)</td>\n",
      "      <td>84.41</td>\n",
      "      <td>83.46</td>\n",
      "      <td>87.53</td>\n",
      "      <td>88.69</td>\n",
      "      <td>88.82</td>\n",
      "      <td>90.96</td>\n",
      "    </tr>\n",
      "  </tbody>\n",
      "</table>\n"
     ]
    }
   ],
   "source": [
    "\n",
    "# table_iou_html = df_iou.style.background_gradient(subset=list(df_iou.columns)[1:], cmap='RdYlGn', low=0.7).to_html()\n",
    "# table_iou_html = df_dice.to_html()\n",
    "# print(table_iou_html)\n",
    "\n",
    "# table_iou_html = df_iou.to_html()\n",
    "# print(table_iou_html)"
   ]
  },
  {
   "cell_type": "code",
   "execution_count": 35,
   "metadata": {},
   "outputs": [],
   "source": [
    "df.to_csv('./models_comp_metrics.csv')"
   ]
  },
  {
   "cell_type": "code",
   "execution_count": null,
   "metadata": {},
   "outputs": [],
   "source": []
  }
 ],
 "metadata": {
  "kernelspec": {
   "display_name": "kvasir_seg",
   "language": "python",
   "name": "kvasir_seg"
  },
  "language_info": {
   "codemirror_mode": {
    "name": "ipython",
    "version": 3
   },
   "file_extension": ".py",
   "mimetype": "text/x-python",
   "name": "python",
   "nbconvert_exporter": "python",
   "pygments_lexer": "ipython3",
   "version": "3.9.16"
  },
  "orig_nbformat": 4
 },
 "nbformat": 4,
 "nbformat_minor": 2
}
