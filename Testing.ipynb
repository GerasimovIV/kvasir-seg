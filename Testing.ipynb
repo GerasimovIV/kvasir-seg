{
 "cells": [
  {
   "cell_type": "code",
   "execution_count": 1,
   "metadata": {},
   "outputs": [],
   "source": [
    "from test import test_models"
   ]
  },
  {
   "cell_type": "code",
   "execution_count": 2,
   "metadata": {},
   "outputs": [],
   "source": [
    "models = [\n",
    "    {\n",
    "        'model': \n",
    "            {\n",
    "                'name': 'UnetPlusPlus',\n",
    "                'downsample_target': False,\n",
    "                'load_args': \n",
    "                    {\n",
    "                        'pre_trained_name': 'imagenet', \n",
    "                        'encoder_name': 'resnet34'\n",
    "                    }\n",
    "            },\n",
    "        'checkpoint': './expirements/unet_plus_plus_baseline/checkpoint-1000',\n",
    "        'name_display': 'CE+Dice, Unet++ (resnet34)'\n",
    "    },\n",
    "    {\n",
    "        'model': \n",
    "            {\n",
    "                'name': 'UnetPlusPlus',\n",
    "                'downsample_target': False,\n",
    "                'load_args': \n",
    "                    {\n",
    "                        'pre_trained_name': 'imagenet', \n",
    "                        'encoder_name': 'resnet101',\n",
    "                    }\n",
    "            },\n",
    "        'checkpoint': './expirements/unet_plus_plus_resnet101/checkpoint-1000',\n",
    "        'name_display': 'CE+Dice, Unet++ (resnet101)'\n",
    "    },\n",
    "    {\n",
    "        'model': \n",
    "            {\n",
    "                'name': 'SegformerForSemanticSegmentation',\n",
    "                'downsample_target': False,\n",
    "                'load_args': \n",
    "                {\n",
    "                    'pre_trained_name': 'nvidia/mit-b0'\n",
    "                }\n",
    "            },\n",
    "        'checkpoint': './expirements/segformer_mit-b0/checkpoint-1000',\n",
    "        'name_display': 'CE+Dice, Segformer (nvidia/mit-b0)'\n",
    "    },  \n",
    "    {\n",
    "        'model': \n",
    "            {\n",
    "                'name': 'UnetPlusPlus',\n",
    "                'downsample_target': False,\n",
    "                'load_args': \n",
    "                    {\n",
    "                        'pre_trained_name': 'imagenet', \n",
    "                        'encoder_name': 'resnet34',\n",
    "                    }\n",
    "            },\n",
    "        'checkpoint': './expirements/UnetPlusPlus_resnet34_CE_Boundary/checkpoint-1000/',\n",
    "        'name_display': 'CE+Boundary, Unet++ (resnet34)'\n",
    "    },\n",
    "    {\n",
    "        'model': \n",
    "            {\n",
    "                'name': 'SegformerForSemanticSegmentation',\n",
    "                'downsample_target': False,\n",
    "                'load_args': \n",
    "                {\n",
    "                    'pre_trained_name': 'nvidia/mit-b0'\n",
    "                }\n",
    "            },\n",
    "        'checkpoint': './expirements/SegformerForSemanticSegmentation_mit-b0_CE_Boundary/checkpoint-1000/',\n",
    "        'name_display': 'CE+Boundary, Segformer (nvidia/mit-b0)'\n",
    "    },   \n",
    "]"
   ]
  },
  {
   "cell_type": "code",
   "execution_count": 3,
   "metadata": {},
   "outputs": [
    {
     "name": "stdout",
     "output_type": "stream",
     "text": [
      "WrappedUnetPlusPlus: <All keys matched successfully>\n"
     ]
    },
    {
     "name": "stderr",
     "output_type": "stream",
     "text": [
      "100%|██████████| 196/196 [00:00<00:00, 2362.32it/s]\n",
      "100%|██████████| 196/196 [00:00<00:00, 9475.59it/s]"
     ]
    },
    {
     "name": "stdout",
     "output_type": "stream",
     "text": [
      "Warning! dataset/sessile-main-Kvasir-SEG/kavsir_bboxes.json file not found, dataset will be without bboxes\n"
     ]
    },
    {
     "name": "stderr",
     "output_type": "stream",
     "text": [
      "\n",
      "getting predictions: 100%|██████████| 196/196 [00:47<00:00,  4.16it/s]\n"
     ]
    },
    {
     "name": "stdout",
     "output_type": "stream",
     "text": [
      "WrappedUnetPlusPlus: <All keys matched successfully>\n"
     ]
    },
    {
     "name": "stderr",
     "output_type": "stream",
     "text": [
      "100%|██████████| 196/196 [00:00<00:00, 1268.17it/s]\n",
      "100%|██████████| 196/196 [00:00<00:00, 1133.78it/s]\n"
     ]
    },
    {
     "name": "stdout",
     "output_type": "stream",
     "text": [
      "Warning! dataset/sessile-main-Kvasir-SEG/kavsir_bboxes.json file not found, dataset will be without bboxes\n"
     ]
    },
    {
     "name": "stderr",
     "output_type": "stream",
     "text": [
      "getting predictions:  85%|████████▍ | 166/196 [02:13<00:23,  1.27it/s]"
     ]
    }
   ],
   "source": [
    "metrics = test_models(models=models, resource='./test_config.yaml')"
   ]
  },
  {
   "cell_type": "code",
   "execution_count": null,
   "metadata": {},
   "outputs": [
    {
     "name": "stdout",
     "output_type": "stream",
     "text": [
      "+--------------------------------------------+--------+----------------+----------------+----------------+----------------+----------------+-------+---------------+---------------+---------------+---------------+---------------+\n",
      "| model                                      |   dice |   dice_group_0 |   dice_group_1 |   dice_group_2 |   dice_group_3 |   dice_group_4 |   iou |   iou_group_0 |   iou_group_1 |   iou_group_2 |   iou_group_3 |   iou_group_4 |\n",
      "+============================================+========+================+================+================+================+================+=======+===============+===============+===============+===============+===============+\n",
      "| CE+Dice, Unet++ (resnet34) (26.1M)         |  0.933 |          0.924 |          0.967 |           0.97 |          0.969 |          0.979 | 0.878 |         0.863 |         0.935 |         0.942 |         0.941 |         0.959 |\n",
      "+--------------------------------------------+--------+----------------+----------------+----------------+----------------+----------------+-------+---------------+---------------+---------------+---------------+---------------+\n",
      "| CE+Dice, Unet++ (resnet101) (68.0M)        |  0.931 |          0.924 |          0.964 |           0.96 |          0.953 |          0.985 | 0.878 |         0.865 |         0.931 |         0.926 |         0.917 |         0.971 |\n",
      "+--------------------------------------------+--------+----------------+----------------+----------------+----------------+----------------+-------+---------------+---------------+---------------+---------------+---------------+\n",
      "| CE+Dice, Segformer (nvidia/mit-b0) (3.71M) |  0.891 |          0.878 |          0.939 |           0.95 |          0.951 |          0.971 | 0.817 |         0.797 |         0.887 |         0.906 |         0.906 |         0.943 |\n",
      "+--------------------------------------------+--------+----------------+----------------+----------------+----------------+----------------+-------+---------------+---------------+---------------+---------------+---------------+\n"
     ]
    }
   ],
   "source": [
    "from tabulate import tabulate\n",
    "\n",
    "head_metrics = list(metrics[0]['metrics'].keys())\n",
    "head_metrics.sort()\n",
    "headers = ['model'] + head_metrics\n",
    "\n",
    "table = [[metrics[i]['model_name'] + f' ({metrics[i][\"params\"]/1e+6:.3}M)'] + [f\"{metrics[i]['metrics'][k]:.3}\" for k in headers[1:]] for i in range(len(metrics))]\n",
    "print(tabulate(table, headers=headers, tablefmt=\"grid\"))"
   ]
  },
  {
   "cell_type": "code",
   "execution_count": null,
   "metadata": {},
   "outputs": [],
   "source": [
    "import pandas as pd\n",
    "\n",
    "df = pd.DataFrame.from_records(table, columns=headers)\n",
    "# df['model'] = df['model'].apply(lambda x: x.split('Wrapped')[-1])\n",
    "# df = df.to_html(index=False)\n",
    "\n",
    "df_dice = df[['model'] + [k for k in df.columns if 'dice' in k]]\n",
    "df_iou = df[['model'] + [k for k in df.columns if 'iou' in k]]"
   ]
  },
  {
   "cell_type": "code",
   "execution_count": null,
   "metadata": {},
   "outputs": [
    {
     "data": {
      "text/html": [
       "<style type=\"text/css\">\n",
       "#T_d3cd3_row0_col1, #T_d3cd3_row0_col2, #T_d3cd3_row0_col3, #T_d3cd3_row0_col4, #T_d3cd3_row0_col5, #T_d3cd3_row1_col2, #T_d3cd3_row1_col6 {\n",
       "  background-color: #006837;\n",
       "  color: #f1f1f1;\n",
       "}\n",
       "#T_d3cd3_row0_col6 {\n",
       "  background-color: #7dc765;\n",
       "  color: #000000;\n",
       "}\n",
       "#T_d3cd3_row1_col1 {\n",
       "  background-color: #06733d;\n",
       "  color: #f1f1f1;\n",
       "}\n",
       "#T_d3cd3_row1_col3 {\n",
       "  background-color: #0f8446;\n",
       "  color: #f1f1f1;\n",
       "}\n",
       "#T_d3cd3_row1_col4 {\n",
       "  background-color: #98d368;\n",
       "  color: #000000;\n",
       "}\n",
       "#T_d3cd3_row1_col5 {\n",
       "  background-color: #fdfebc;\n",
       "  color: #000000;\n",
       "}\n",
       "#T_d3cd3_row2_col1, #T_d3cd3_row2_col2, #T_d3cd3_row2_col3, #T_d3cd3_row2_col4, #T_d3cd3_row2_col5, #T_d3cd3_row2_col6 {\n",
       "  background-color: #feeda1;\n",
       "  color: #000000;\n",
       "}\n",
       "</style>\n",
       "<table id=\"T_d3cd3\">\n",
       "  <thead>\n",
       "    <tr>\n",
       "      <th class=\"blank level0\" >&nbsp;</th>\n",
       "      <th id=\"T_d3cd3_level0_col0\" class=\"col_heading level0 col0\" >model</th>\n",
       "      <th id=\"T_d3cd3_level0_col1\" class=\"col_heading level0 col1\" >dice</th>\n",
       "      <th id=\"T_d3cd3_level0_col2\" class=\"col_heading level0 col2\" >dice_group_0</th>\n",
       "      <th id=\"T_d3cd3_level0_col3\" class=\"col_heading level0 col3\" >dice_group_1</th>\n",
       "      <th id=\"T_d3cd3_level0_col4\" class=\"col_heading level0 col4\" >dice_group_2</th>\n",
       "      <th id=\"T_d3cd3_level0_col5\" class=\"col_heading level0 col5\" >dice_group_3</th>\n",
       "      <th id=\"T_d3cd3_level0_col6\" class=\"col_heading level0 col6\" >dice_group_4</th>\n",
       "    </tr>\n",
       "  </thead>\n",
       "  <tbody>\n",
       "    <tr>\n",
       "      <th id=\"T_d3cd3_level0_row0\" class=\"row_heading level0 row0\" >0</th>\n",
       "      <td id=\"T_d3cd3_row0_col0\" class=\"data row0 col0\" >CE+Dice, Unet++ (resnet34) (26.1M)</td>\n",
       "      <td id=\"T_d3cd3_row0_col1\" class=\"data row0 col1\" >0.933</td>\n",
       "      <td id=\"T_d3cd3_row0_col2\" class=\"data row0 col2\" >0.924</td>\n",
       "      <td id=\"T_d3cd3_row0_col3\" class=\"data row0 col3\" >0.967</td>\n",
       "      <td id=\"T_d3cd3_row0_col4\" class=\"data row0 col4\" >0.97</td>\n",
       "      <td id=\"T_d3cd3_row0_col5\" class=\"data row0 col5\" >0.969</td>\n",
       "      <td id=\"T_d3cd3_row0_col6\" class=\"data row0 col6\" >0.979</td>\n",
       "    </tr>\n",
       "    <tr>\n",
       "      <th id=\"T_d3cd3_level0_row1\" class=\"row_heading level0 row1\" >1</th>\n",
       "      <td id=\"T_d3cd3_row1_col0\" class=\"data row1 col0\" >CE+Dice, Unet++ (resnet101) (68.0M)</td>\n",
       "      <td id=\"T_d3cd3_row1_col1\" class=\"data row1 col1\" >0.931</td>\n",
       "      <td id=\"T_d3cd3_row1_col2\" class=\"data row1 col2\" >0.924</td>\n",
       "      <td id=\"T_d3cd3_row1_col3\" class=\"data row1 col3\" >0.964</td>\n",
       "      <td id=\"T_d3cd3_row1_col4\" class=\"data row1 col4\" >0.96</td>\n",
       "      <td id=\"T_d3cd3_row1_col5\" class=\"data row1 col5\" >0.953</td>\n",
       "      <td id=\"T_d3cd3_row1_col6\" class=\"data row1 col6\" >0.985</td>\n",
       "    </tr>\n",
       "    <tr>\n",
       "      <th id=\"T_d3cd3_level0_row2\" class=\"row_heading level0 row2\" >2</th>\n",
       "      <td id=\"T_d3cd3_row2_col0\" class=\"data row2 col0\" >CE+Dice, Segformer (nvidia/mit-b0) (3.71M)</td>\n",
       "      <td id=\"T_d3cd3_row2_col1\" class=\"data row2 col1\" >0.891</td>\n",
       "      <td id=\"T_d3cd3_row2_col2\" class=\"data row2 col2\" >0.878</td>\n",
       "      <td id=\"T_d3cd3_row2_col3\" class=\"data row2 col3\" >0.939</td>\n",
       "      <td id=\"T_d3cd3_row2_col4\" class=\"data row2 col4\" >0.95</td>\n",
       "      <td id=\"T_d3cd3_row2_col5\" class=\"data row2 col5\" >0.951</td>\n",
       "      <td id=\"T_d3cd3_row2_col6\" class=\"data row2 col6\" >0.971</td>\n",
       "    </tr>\n",
       "  </tbody>\n",
       "</table>\n"
      ],
      "text/plain": [
       "<pandas.io.formats.style.Styler at 0x7f1a7dac4610>"
      ]
     },
     "execution_count": 18,
     "metadata": {},
     "output_type": "execute_result"
    }
   ],
   "source": [
    "df_dice.style.background_gradient(subset=list(df_dice.columns)[1:], cmap='RdYlGn', low=0.8)"
   ]
  },
  {
   "cell_type": "code",
   "execution_count": null,
   "metadata": {},
   "outputs": [
    {
     "data": {
      "text/html": [
       "<style type=\"text/css\">\n",
       "#T_660a5_row0_col1, #T_660a5_row0_col3, #T_660a5_row0_col4, #T_660a5_row0_col5, #T_660a5_row1_col1, #T_660a5_row1_col2, #T_660a5_row1_col6 {\n",
       "  background-color: #006837;\n",
       "  color: #f1f1f1;\n",
       "}\n",
       "#T_660a5_row0_col2 {\n",
       "  background-color: #04703b;\n",
       "  color: #f1f1f1;\n",
       "}\n",
       "#T_660a5_row0_col6 {\n",
       "  background-color: #87cb67;\n",
       "  color: #000000;\n",
       "}\n",
       "#T_660a5_row1_col3 {\n",
       "  background-color: #0c7f43;\n",
       "  color: #f1f1f1;\n",
       "}\n",
       "#T_660a5_row1_col4 {\n",
       "  background-color: #8ccd67;\n",
       "  color: #000000;\n",
       "}\n",
       "#T_660a5_row1_col5 {\n",
       "  background-color: #daf08d;\n",
       "  color: #000000;\n",
       "}\n",
       "#T_660a5_row2_col1, #T_660a5_row2_col2, #T_660a5_row2_col3, #T_660a5_row2_col4, #T_660a5_row2_col5, #T_660a5_row2_col6 {\n",
       "  background-color: #fee491;\n",
       "  color: #000000;\n",
       "}\n",
       "</style>\n",
       "<table id=\"T_660a5\">\n",
       "  <thead>\n",
       "    <tr>\n",
       "      <th class=\"blank level0\" >&nbsp;</th>\n",
       "      <th id=\"T_660a5_level0_col0\" class=\"col_heading level0 col0\" >model</th>\n",
       "      <th id=\"T_660a5_level0_col1\" class=\"col_heading level0 col1\" >iou</th>\n",
       "      <th id=\"T_660a5_level0_col2\" class=\"col_heading level0 col2\" >iou_group_0</th>\n",
       "      <th id=\"T_660a5_level0_col3\" class=\"col_heading level0 col3\" >iou_group_1</th>\n",
       "      <th id=\"T_660a5_level0_col4\" class=\"col_heading level0 col4\" >iou_group_2</th>\n",
       "      <th id=\"T_660a5_level0_col5\" class=\"col_heading level0 col5\" >iou_group_3</th>\n",
       "      <th id=\"T_660a5_level0_col6\" class=\"col_heading level0 col6\" >iou_group_4</th>\n",
       "    </tr>\n",
       "  </thead>\n",
       "  <tbody>\n",
       "    <tr>\n",
       "      <th id=\"T_660a5_level0_row0\" class=\"row_heading level0 row0\" >0</th>\n",
       "      <td id=\"T_660a5_row0_col0\" class=\"data row0 col0\" >CE+Dice, Unet++ (resnet34) (26.1M)</td>\n",
       "      <td id=\"T_660a5_row0_col1\" class=\"data row0 col1\" >0.878</td>\n",
       "      <td id=\"T_660a5_row0_col2\" class=\"data row0 col2\" >0.863</td>\n",
       "      <td id=\"T_660a5_row0_col3\" class=\"data row0 col3\" >0.935</td>\n",
       "      <td id=\"T_660a5_row0_col4\" class=\"data row0 col4\" >0.942</td>\n",
       "      <td id=\"T_660a5_row0_col5\" class=\"data row0 col5\" >0.941</td>\n",
       "      <td id=\"T_660a5_row0_col6\" class=\"data row0 col6\" >0.959</td>\n",
       "    </tr>\n",
       "    <tr>\n",
       "      <th id=\"T_660a5_level0_row1\" class=\"row_heading level0 row1\" >1</th>\n",
       "      <td id=\"T_660a5_row1_col0\" class=\"data row1 col0\" >CE+Dice, Unet++ (resnet101) (68.0M)</td>\n",
       "      <td id=\"T_660a5_row1_col1\" class=\"data row1 col1\" >0.878</td>\n",
       "      <td id=\"T_660a5_row1_col2\" class=\"data row1 col2\" >0.865</td>\n",
       "      <td id=\"T_660a5_row1_col3\" class=\"data row1 col3\" >0.931</td>\n",
       "      <td id=\"T_660a5_row1_col4\" class=\"data row1 col4\" >0.926</td>\n",
       "      <td id=\"T_660a5_row1_col5\" class=\"data row1 col5\" >0.917</td>\n",
       "      <td id=\"T_660a5_row1_col6\" class=\"data row1 col6\" >0.971</td>\n",
       "    </tr>\n",
       "    <tr>\n",
       "      <th id=\"T_660a5_level0_row2\" class=\"row_heading level0 row2\" >2</th>\n",
       "      <td id=\"T_660a5_row2_col0\" class=\"data row2 col0\" >CE+Dice, Segformer (nvidia/mit-b0) (3.71M)</td>\n",
       "      <td id=\"T_660a5_row2_col1\" class=\"data row2 col1\" >0.817</td>\n",
       "      <td id=\"T_660a5_row2_col2\" class=\"data row2 col2\" >0.797</td>\n",
       "      <td id=\"T_660a5_row2_col3\" class=\"data row2 col3\" >0.887</td>\n",
       "      <td id=\"T_660a5_row2_col4\" class=\"data row2 col4\" >0.906</td>\n",
       "      <td id=\"T_660a5_row2_col5\" class=\"data row2 col5\" >0.906</td>\n",
       "      <td id=\"T_660a5_row2_col6\" class=\"data row2 col6\" >0.943</td>\n",
       "    </tr>\n",
       "  </tbody>\n",
       "</table>\n"
      ],
      "text/plain": [
       "<pandas.io.formats.style.Styler at 0x7f1a7dac3f40>"
      ]
     },
     "execution_count": 20,
     "metadata": {},
     "output_type": "execute_result"
    }
   ],
   "source": [
    "\n",
    "df_iou.style.background_gradient(subset=list(df_iou.columns)[1:], cmap='RdYlGn', low=0.7)"
   ]
  },
  {
   "cell_type": "code",
   "execution_count": null,
   "metadata": {},
   "outputs": [],
   "source": []
  }
 ],
 "metadata": {
  "kernelspec": {
   "display_name": "kvasir_seg",
   "language": "python",
   "name": "kvasir_seg"
  },
  "language_info": {
   "codemirror_mode": {
    "name": "ipython",
    "version": 3
   },
   "file_extension": ".py",
   "mimetype": "text/x-python",
   "name": "python",
   "nbconvert_exporter": "python",
   "pygments_lexer": "ipython3",
   "version": "3.9.16"
  },
  "orig_nbformat": 4
 },
 "nbformat": 4,
 "nbformat_minor": 2
}
