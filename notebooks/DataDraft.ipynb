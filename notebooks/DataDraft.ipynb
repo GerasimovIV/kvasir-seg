{
 "cells": [
  {
   "cell_type": "code",
   "execution_count": 1,
   "metadata": {},
   "outputs": [],
   "source": [
    "import sys\n",
    "sys.path.append('..')\n",
    "from data_utils.dataset import load_datasets"
   ]
  },
  {
   "cell_type": "code",
   "execution_count": 4,
   "metadata": {},
   "outputs": [
    {
     "name": "stderr",
     "output_type": "stream",
     "text": [
      "0it [00:00, ?it/s]\n",
      "0it [00:00, ?it/s]"
     ]
    },
    {
     "name": "stdout",
     "output_type": "stream",
     "text": [
      "Warning! dataset/Kvasir-SEG/kavsir_bboxes.json file not found, dataset will be without bboxes\n"
     ]
    },
    {
     "name": "stderr",
     "output_type": "stream",
     "text": [
      "\n"
     ]
    },
    {
     "ename": "FileNotFoundError",
     "evalue": "[Errno 2] No such file or directory: 'augmentation_config_train.yaml'",
     "output_type": "error",
     "traceback": [
      "\u001b[0;31m---------------------------------------------------------------------------\u001b[0m",
      "\u001b[0;31mFileNotFoundError\u001b[0m                         Traceback (most recent call last)",
      "Cell \u001b[0;32mIn[4], line 1\u001b[0m\n\u001b[0;32m----> 1\u001b[0m train_dataset, test_dataset \u001b[39m=\u001b[39m load_datasets(\u001b[39mr\u001b[39;49m\u001b[39m'\u001b[39;49m\u001b[39m../train_config.yaml\u001b[39;49m\u001b[39m'\u001b[39;49m)\n",
      "File \u001b[0;32m~/Documents/SberBank/TestTask/notebooks/../data_utils/dataset.py:192\u001b[0m, in \u001b[0;36mload_datasets\u001b[0;34m(resource)\u001b[0m\n\u001b[1;32m    189\u001b[0m seed \u001b[39m=\u001b[39m config[\u001b[39m\"\u001b[39m\u001b[39mdata_config\u001b[39m\u001b[39m\"\u001b[39m][\u001b[39m\"\u001b[39m\u001b[39mtrain_test_split\u001b[39m\u001b[39m\"\u001b[39m][\u001b[39m\"\u001b[39m\u001b[39mseed\u001b[39m\u001b[39m\"\u001b[39m]\n\u001b[1;32m    190\u001b[0m lens \u001b[39m=\u001b[39m config[\u001b[39m\"\u001b[39m\u001b[39mdata_config\u001b[39m\u001b[39m\"\u001b[39m][\u001b[39m\"\u001b[39m\u001b[39mtrain_test_split\u001b[39m\u001b[39m\"\u001b[39m][\u001b[39m\"\u001b[39m\u001b[39mlens\u001b[39m\u001b[39m\"\u001b[39m]\n\u001b[0;32m--> 192\u001b[0m dataset \u001b[39m=\u001b[39m KvasirDataset(root_dir\u001b[39m=\u001b[39;49mpath_to_dataset, augment_conf\u001b[39m=\u001b[39;49maugment_config_path_train)\n\u001b[1;32m    194\u001b[0m split_generator \u001b[39m=\u001b[39m torch\u001b[39m.\u001b[39mGenerator()\u001b[39m.\u001b[39mmanual_seed(seed)\n\u001b[1;32m    195\u001b[0m dataset_train, dataset_test \u001b[39m=\u001b[39m random_split(dataset, lens, generator\u001b[39m=\u001b[39msplit_generator)\n",
      "File \u001b[0;32m~/Documents/SberBank/TestTask/notebooks/../data_utils/dataset.py:104\u001b[0m, in \u001b[0;36mKvasirDatasetBase.__init__\u001b[0;34m(self, root_dir, bboxes_file, image_format, mask_format, augment_conf)\u001b[0m\n\u001b[1;32m    101\u001b[0m     \u001b[39mprint\u001b[39m(\u001b[39mf\u001b[39m\u001b[39m\"\u001b[39m\u001b[39mWarning! \u001b[39m\u001b[39m{\u001b[39;00m\u001b[39mself\u001b[39m\u001b[39m.\u001b[39mbboxes_file\u001b[39m}\u001b[39;00m\u001b[39m doesn\u001b[39m\u001b[39m'\u001b[39m\u001b[39mt consist of bbox for \u001b[39m\u001b[39m{\u001b[39;00mname_key\u001b[39m}\u001b[39;00m\u001b[39m\"\u001b[39m)\n\u001b[1;32m    103\u001b[0m \u001b[39m# prepare augmentations\u001b[39;00m\n\u001b[0;32m--> 104\u001b[0m \u001b[39mself\u001b[39m\u001b[39m.\u001b[39maugmentator \u001b[39m=\u001b[39m Augmentator(augment_conf)\n\u001b[1;32m    105\u001b[0m \u001b[39mself\u001b[39m\u001b[39m.\u001b[39mto_tensor \u001b[39m=\u001b[39m ToTensor()\n",
      "File \u001b[0;32m~/Documents/SberBank/TestTask/notebooks/../data_utils/utils.py:118\u001b[0m, in \u001b[0;36mAugmentator.__init__\u001b[0;34m(self, transforms_config)\u001b[0m\n\u001b[1;32m    116\u001b[0m \u001b[39mif\u001b[39;00m \u001b[39misinstance\u001b[39m(transforms_config, \u001b[39mstr\u001b[39m) \u001b[39mor\u001b[39;00m \u001b[39misinstance\u001b[39m(transforms_config, Path):\n\u001b[1;32m    117\u001b[0m     transforms_config \u001b[39m=\u001b[39m Path(transforms_config)\n\u001b[0;32m--> 118\u001b[0m     \u001b[39mwith\u001b[39;00m \u001b[39mopen\u001b[39;49m(\u001b[39mf\u001b[39;49m\u001b[39m\"\u001b[39;49m\u001b[39m{\u001b[39;49;00mtransforms_config\u001b[39m}\u001b[39;49;00m\u001b[39m\"\u001b[39;49m) \u001b[39mas\u001b[39;00m file:\n\u001b[1;32m    119\u001b[0m         transforms_config \u001b[39m=\u001b[39m yaml\u001b[39m.\u001b[39msafe_load(file)\n\u001b[1;32m    121\u001b[0m \u001b[39mself\u001b[39m\u001b[39m.\u001b[39mtransforms_always \u001b[39m=\u001b[39m []\n",
      "\u001b[0;31mFileNotFoundError\u001b[0m: [Errno 2] No such file or directory: 'augmentation_config_train.yaml'"
     ]
    }
   ],
   "source": [
    "train_dataset, test_dataset = load_datasets(r'../train_config.yaml')"
   ]
  },
  {
   "cell_type": "code",
   "execution_count": 1,
   "metadata": {},
   "outputs": [],
   "source": [
    "\n",
    "\n",
    "from torchvision.transforms import CenterCrop, RandomHorizontalFlip, RandomVerticalFlip\n",
    "import torch\n",
    "import numpy as np\n",
    "import albumentations as A\n",
    "from albumentations.core import transforms_interface\n",
    "import yaml\n",
    "import cv2\n",
    "from data_utils.utils import Augmentator\n",
    "import torchvision.transforms as transforms\n",
    "\n",
    "from data_utils.dataset import KvasirDatasetBase\n",
    "from pathlib import Path\n",
    "from data_utils.utils import plot_mask_over_image\n",
    "# import albumentations.core.transforms_interface.DualTransform as DualTransform"
   ]
  },
  {
   "cell_type": "code",
   "execution_count": 2,
   "metadata": {},
   "outputs": [],
   "source": [
    "path_to_dataset = Path('../dataset/Kvasir-SEG/')"
   ]
  },
  {
   "cell_type": "code",
   "execution_count": 3,
   "metadata": {},
   "outputs": [
    {
     "name": "stderr",
     "output_type": "stream",
     "text": [
      "100%|██████████| 1000/1000 [00:00<00:00, 3583.34it/s]\n",
      "100%|██████████| 1000/1000 [00:00<00:00, 8761.99it/s]"
     ]
    },
    {
     "name": "stdout",
     "output_type": "stream",
     "text": [
      "\u001b[1m\u001b[34m[Augmentator]:\u001b[0m initialization\n"
     ]
    },
    {
     "name": "stderr",
     "output_type": "stream",
     "text": [
      "\n"
     ]
    }
   ],
   "source": [
    "dataset_all = KvasirDatasetBase(root_dir = path_to_dataset, augment_conf={})"
   ]
  },
  {
   "cell_type": "code",
   "execution_count": 4,
   "metadata": {},
   "outputs": [
    {
     "data": {
      "text/plain": [
       "1000"
      ]
     },
     "execution_count": 4,
     "metadata": {},
     "output_type": "execute_result"
    }
   ],
   "source": [
    "len(dataset_all)"
   ]
  },
  {
   "cell_type": "code",
   "execution_count": 5,
   "metadata": {},
   "outputs": [],
   "source": [
    "from torch.utils.data import random_split\n",
    "\n",
    "generator1 = torch.Generator().manual_seed(42)\n",
    "dataset_test, dataset_train = random_split(dataset_all, [150, 850], generator=generator1)"
   ]
  },
  {
   "cell_type": "code",
   "execution_count": 6,
   "metadata": {},
   "outputs": [
    {
     "name": "stdout",
     "output_type": "stream",
     "text": [
      "input: torch.Size([3, 530, 620]), 0.0, 1.0, torch.float32, 302812.5\n",
      "target: torch.Size([530, 620]), False, True, torch.bool, 37424\n"
     ]
    },
    {
     "data": {
      "text/plain": [
       "[tensor([0.1694, 0.3887, 0.5355, 0.9283])]"
      ]
     },
     "execution_count": 6,
     "metadata": {},
     "output_type": "execute_result"
    }
   ],
   "source": [
    "for k, v in dataset_train.__getitem__(0).items():\n",
    "    if isinstance(v, torch.Tensor): print(f'{k}: {v.shape}, {v.min()}, {v.max()}, {v.dtype}, {v.sum()}')\n",
    "\n",
    "data_ = dataset_train.__getitem__(0)\n",
    "input_ = data_['input']\n",
    "target_ = data_['target']\n",
    "bboxes_ = data_['bboxes']\n",
    "\n",
    "plot_mask_over_image(input_, target_)\n",
    "bboxes_"
   ]
  },
  {
   "cell_type": "code",
   "execution_count": 5,
   "metadata": {},
   "outputs": [
    {
     "data": {
      "text/plain": [
       "'cju0qkwl35piu0993l0dewei2'"
      ]
     },
     "execution_count": 5,
     "metadata": {},
     "output_type": "execute_result"
    }
   ],
   "source": [
    "dataset_train.data_names[0]"
   ]
  },
  {
   "cell_type": "code",
   "execution_count": 6,
   "metadata": {},
   "outputs": [],
   "source": [
    "# data = {\n",
    "#     'Resize': {\n",
    "#         'height': 100,\n",
    "#         'width': 100,\n",
    "#         'interpolation': cv2.INTER_LINEAR, \n",
    "#         'p': 1.0\n",
    "#     },\n",
    "#     'HorizontalFlip': {\n",
    "#         'p': 0.5\n",
    "#     },\n",
    "#     'VerticalFlip': {\n",
    "#         'p': 0.5\n",
    "#     },\n",
    "#     'GaussianBlur': {\n",
    "#         'blur_limit': [3, 7],\n",
    "#         'sigma_limit': [0., 0.5],\n",
    "#         'p': 0.5\n",
    "#     },\n",
    "#     'Rotate': {\n",
    "#         'limit': [-90, 90], \n",
    "#         'interpolation': 1, \n",
    "#         'border_mode': 4, \n",
    "#         'mask_value': None, \n",
    "#         'rotate_method': 'largest_box', \n",
    "#         'crop_border': False,\n",
    "#         'p': 0.5\n",
    "#     }\n",
    "    \n",
    "# }\n",
    "\n",
    "# with open(r'../augmentation_config.yaml', 'w') as file:\n",
    "#     documents = yaml.dump(data, file)"
   ]
  }
 ],
 "metadata": {
  "kernelspec": {
   "display_name": "kvasir_seg",
   "language": "python",
   "name": "kvasir_seg"
  },
  "language_info": {
   "codemirror_mode": {
    "name": "ipython",
    "version": 3
   },
   "file_extension": ".py",
   "mimetype": "text/x-python",
   "name": "python",
   "nbconvert_exporter": "python",
   "pygments_lexer": "ipython3",
   "version": "3.9.16"
  },
  "orig_nbformat": 4
 },
 "nbformat": 4,
 "nbformat_minor": 2
}
