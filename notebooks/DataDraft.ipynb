{
 "cells": [
  {
   "cell_type": "code",
   "execution_count": 1,
   "metadata": {},
   "outputs": [],
   "source": [
    "import sys\n",
    "sys.path.append('..')\n",
    "\n",
    "from torchvision.transforms import CenterCrop, RandomHorizontalFlip, RandomVerticalFlip\n",
    "import torch\n",
    "import numpy as np\n",
    "import albumentations as A\n",
    "from albumentations.core import transforms_interface\n",
    "import yaml\n",
    "import cv2\n",
    "from data_utils.utils import Augmentator\n",
    "import torchvision.transforms as transforms\n",
    "\n",
    "from data_utils.dataset import KvasirDatasetBase\n",
    "from pathlib import Path\n",
    "from data_utils.utils import plot_mask_over_image\n",
    "# import albumentations.core.transforms_interface.DualTransform as DualTransform"
   ]
  },
  {
   "cell_type": "code",
   "execution_count": 2,
   "metadata": {},
   "outputs": [],
   "source": [
    "path_to_dataset = Path('../dataset/Kvasir-SEG/')"
   ]
  },
  {
   "cell_type": "code",
   "execution_count": 8,
   "metadata": {},
   "outputs": [
    {
     "name": "stderr",
     "output_type": "stream",
     "text": [
      "100%|██████████| 1000/1000 [00:00<00:00, 9044.15it/s]\n",
      "100%|██████████| 1000/1000 [00:00<00:00, 5030.50it/s]\n"
     ]
    },
    {
     "name": "stdout",
     "output_type": "stream",
     "text": [
      "\u001b[1m\u001b[34m[Augmentator]:\u001b[0m initialization\n"
     ]
    }
   ],
   "source": [
    "dataset_train = KvasirDatasetBase(root_dir = path_to_dataset, augment_conf={})"
   ]
  },
  {
   "cell_type": "code",
   "execution_count": 9,
   "metadata": {},
   "outputs": [
    {
     "name": "stdout",
     "output_type": "stream",
     "text": [
      "input: torch.Size([3, 529, 622]), 0.0, 1.0, torch.float32, 442413.25\n",
      "target: torch.Size([529, 622]), False, True, torch.bool, 91288\n"
     ]
    },
    {
     "data": {
      "text/plain": [
       "[tensor([0.0611, 0.0095, 0.6913, 0.6389])]"
      ]
     },
     "execution_count": 9,
     "metadata": {},
     "output_type": "execute_result"
    }
   ],
   "source": [
    "for k, v in dataset_train.__getitem__(0).items():\n",
    "    if isinstance(v, torch.Tensor): print(f'{k}: {v.shape}, {v.min()}, {v.max()}, {v.dtype}, {v.sum()}')\n",
    "\n",
    "data_ = dataset_train.__getitem__(0)\n",
    "input_ = data_['input']\n",
    "target_ = data_['target']\n",
    "bboxes_ = data_['bboxes']\n",
    "\n",
    "plot_mask_over_image(input_, target_)\n",
    "bboxes_"
   ]
  },
  {
   "cell_type": "code",
   "execution_count": 5,
   "metadata": {},
   "outputs": [
    {
     "data": {
      "text/plain": [
       "'cju0qkwl35piu0993l0dewei2'"
      ]
     },
     "execution_count": 5,
     "metadata": {},
     "output_type": "execute_result"
    }
   ],
   "source": [
    "dataset_train.data_names[0]"
   ]
  },
  {
   "cell_type": "code",
   "execution_count": 6,
   "metadata": {},
   "outputs": [],
   "source": [
    "# data = {\n",
    "#     'Resize': {\n",
    "#         'height': 100,\n",
    "#         'width': 100,\n",
    "#         'interpolation': cv2.INTER_LINEAR, \n",
    "#         'p': 1.0\n",
    "#     },\n",
    "#     'HorizontalFlip': {\n",
    "#         'p': 0.5\n",
    "#     },\n",
    "#     'VerticalFlip': {\n",
    "#         'p': 0.5\n",
    "#     },\n",
    "#     'GaussianBlur': {\n",
    "#         'blur_limit': [3, 7],\n",
    "#         'sigma_limit': [0., 0.5],\n",
    "#         'p': 0.5\n",
    "#     },\n",
    "#     'Rotate': {\n",
    "#         'limit': [-90, 90], \n",
    "#         'interpolation': 1, \n",
    "#         'border_mode': 4, \n",
    "#         'mask_value': None, \n",
    "#         'rotate_method': 'largest_box', \n",
    "#         'crop_border': False,\n",
    "#         'p': 0.5\n",
    "#     }\n",
    "    \n",
    "# }\n",
    "\n",
    "# with open(r'../augmentation_config.yaml', 'w') as file:\n",
    "#     documents = yaml.dump(data, file)"
   ]
  }
 ],
 "metadata": {
  "kernelspec": {
   "display_name": "kvasir_seg",
   "language": "python",
   "name": "kvasir_seg"
  },
  "language_info": {
   "codemirror_mode": {
    "name": "ipython",
    "version": 3
   },
   "file_extension": ".py",
   "mimetype": "text/x-python",
   "name": "python",
   "nbconvert_exporter": "python",
   "pygments_lexer": "ipython3",
   "version": "3.9.16"
  },
  "orig_nbformat": 4
 },
 "nbformat": 4,
 "nbformat_minor": 2
}
