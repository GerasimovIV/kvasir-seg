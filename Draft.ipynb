{
 "cells": [
  {
   "cell_type": "code",
   "execution_count": null,
   "metadata": {},
   "outputs": [],
   "source": [
    "from train import train_setup"
   ]
  },
  {
   "cell_type": "code",
   "execution_count": 2,
   "metadata": {},
   "outputs": [
    {
     "name": "stderr",
     "output_type": "stream",
     "text": [
      "100%|██████████| 1000/1000 [00:00<00:00, 12123.00it/s]\n",
      "100%|██████████| 1000/1000 [00:00<00:00, 12213.83it/s]\n",
      "100%|██████████| 1000/1000 [00:00<00:00, 13176.58it/s]\n",
      "100%|██████████| 1000/1000 [00:00<00:00, 12859.45it/s]\n",
      "/home/octopus/Documents/SberBank/TestTask/.venv/lib/python3.9/site-packages/torch/cuda/__init__.py:107: UserWarning: CUDA initialization: CUDA unknown error - this may be due to an incorrectly set up environment, e.g. changing env variable CUDA_VISIBLE_DEVICES after program start. Setting the available devices to be zero. (Triggered internally at ../c10/cuda/CUDAFunctions.cpp:109.)\n",
      "  return torch._C._cuda_getDeviceCount() > 0\n"
     ]
    }
   ],
   "source": [
    "trainer = train_setup(r'./train_config.yaml')"
   ]
  },
  {
   "cell_type": "code",
   "execution_count": null,
   "metadata": {},
   "outputs": [],
   "source": [
    "# set(trainer.train_dataset.data_names).intersection(set(trainer.eval_dataset.data_names))"
   ]
  },
  {
   "cell_type": "code",
   "execution_count": null,
   "metadata": {},
   "outputs": [],
   "source": [
    "trainer.train()"
   ]
  },
  {
   "cell_type": "code",
   "execution_count": 3,
   "metadata": {},
   "outputs": [
    {
     "data": {
      "application/vnd.jupyter.widget-view+json": {
       "model_id": "d862c88788434d9b86f6eb8e91b589af",
       "version_major": 2,
       "version_minor": 0
      },
      "text/plain": [
       "  0%|          | 0/19 [00:00<?, ?it/s]"
      ]
     },
     "metadata": {},
     "output_type": "display_data"
    },
    {
     "name": "stderr",
     "output_type": "stream",
     "text": [
      "Failed to detect the name of this notebook, you can set it manually with the WANDB_NOTEBOOK_NAME environment variable to enable code saving.\n",
      "\u001b[34m\u001b[1mwandb\u001b[0m: Currently logged in as: \u001b[33mequilibriumivan\u001b[0m. Use \u001b[1m`wandb login --relogin`\u001b[0m to force relogin\n"
     ]
    },
    {
     "data": {
      "text/html": [
       "Tracking run with wandb version 0.14.0"
      ],
      "text/plain": [
       "<IPython.core.display.HTML object>"
      ]
     },
     "metadata": {},
     "output_type": "display_data"
    },
    {
     "data": {
      "text/html": [
       "Run data is saved locally in <code>/home/octopus/Documents/SberBank/TestTask/wandb/run-20230318_005142-wd18871o</code>"
      ],
      "text/plain": [
       "<IPython.core.display.HTML object>"
      ]
     },
     "metadata": {},
     "output_type": "display_data"
    },
    {
     "data": {
      "text/html": [
       "Syncing run <strong><a href='https://wandb.ai/equilibriumivan/huggingface/runs/wd18871o' target=\"_blank\">magic-fire-202</a></strong> to <a href='https://wandb.ai/equilibriumivan/huggingface' target=\"_blank\">Weights & Biases</a> (<a href='https://wandb.me/run' target=\"_blank\">docs</a>)<br/>"
      ],
      "text/plain": [
       "<IPython.core.display.HTML object>"
      ]
     },
     "metadata": {},
     "output_type": "display_data"
    },
    {
     "data": {
      "text/html": [
       " View project at <a href='https://wandb.ai/equilibriumivan/huggingface' target=\"_blank\">https://wandb.ai/equilibriumivan/huggingface</a>"
      ],
      "text/plain": [
       "<IPython.core.display.HTML object>"
      ]
     },
     "metadata": {},
     "output_type": "display_data"
    },
    {
     "data": {
      "text/html": [
       " View run at <a href='https://wandb.ai/equilibriumivan/huggingface/runs/wd18871o' target=\"_blank\">https://wandb.ai/equilibriumivan/huggingface/runs/wd18871o</a>"
      ],
      "text/plain": [
       "<IPython.core.display.HTML object>"
      ]
     },
     "metadata": {},
     "output_type": "display_data"
    },
    {
     "data": {
      "text/plain": [
       "{'eval_loss': 0.35294732451438904,\n",
       " 'eval_dice_group_0': 0.9395546913146973,\n",
       " 'eval_iou_group_0': 0.8869707584381104,\n",
       " 'eval_dice_group_1': 0.8558213114738464,\n",
       " 'eval_iou_group_1': 0.7488468289375305,\n",
       " 'eval_dice_group_2': 0.7613247036933899,\n",
       " 'eval_iou_group_2': 0.6154512166976929,\n",
       " 'eval_dice_group_3': 0.6396359801292419,\n",
       " 'eval_iou_group_3': 0.4726933538913727,\n",
       " 'eval_dice_group_4': 0.4277057647705078,\n",
       " 'eval_iou_group_4': 0.2721239924430847,\n",
       " 'eval_dice': 0.8481459617614746,\n",
       " 'eval_iou': 0.7533489465713501,\n",
       " 'eval_runtime': 193.1787,\n",
       " 'eval_samples_per_second': 0.776,\n",
       " 'eval_steps_per_second': 0.098}"
      ]
     },
     "execution_count": 3,
     "metadata": {},
     "output_type": "execute_result"
    }
   ],
   "source": [
    "trainer.evaluate()"
   ]
  },
  {
   "cell_type": "markdown",
   "metadata": {},
   "source": []
  },
  {
   "cell_type": "code",
   "execution_count": null,
   "metadata": {},
   "outputs": [],
   "source": [
    "print(trainer.train_dataset.dataset[0]['input'].shape)\n",
    "trainer.train_dataset.dataset[0]['target'].shape"
   ]
  },
  {
   "cell_type": "code",
   "execution_count": null,
   "metadata": {},
   "outputs": [],
   "source": [
    "print(trainer.eval_dataset[0]['input'].shape)\n",
    "trainer.eval_dataset[0]['target'].shape"
   ]
  },
  {
   "cell_type": "code",
   "execution_count": null,
   "metadata": {},
   "outputs": [],
   "source": [
    "trainer.train_dataset.dataset.augmentator()"
   ]
  },
  {
   "cell_type": "code",
   "execution_count": null,
   "metadata": {},
   "outputs": [],
   "source": []
  }
 ],
 "metadata": {
  "kernelspec": {
   "display_name": "kvasir_seg",
   "language": "python",
   "name": "kvasir_seg"
  },
  "language_info": {
   "codemirror_mode": {
    "name": "ipython",
    "version": 3
   },
   "file_extension": ".py",
   "mimetype": "text/x-python",
   "name": "python",
   "nbconvert_exporter": "python",
   "pygments_lexer": "ipython3",
   "version": "3.9.16"
  },
  "orig_nbformat": 4
 },
 "nbformat": 4,
 "nbformat_minor": 2
}
