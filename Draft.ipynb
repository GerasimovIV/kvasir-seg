{
 "cells": [
  {
   "cell_type": "code",
   "execution_count": 1,
   "metadata": {},
   "outputs": [],
   "source": [
    "from test import test_models\n",
    "# import yaml\n",
    "\n",
    "# with open('test_config.yaml', 'r') as file:\n",
    "#     test_config = yaml.safe_load(file)\n"
   ]
  },
  {
   "cell_type": "code",
   "execution_count": 2,
   "metadata": {},
   "outputs": [],
   "source": [
    "models = [\n",
    "    # {\n",
    "    #     'model': \n",
    "    #         {\n",
    "    #             'name': 'UnetPlusPlus',\n",
    "    #             'downsample_target': False,\n",
    "    #             'load_args': \n",
    "    #                 {\n",
    "    #                     'pre_trained_name': 'imagenet', \n",
    "    #                     'encoder_name': 'resnet34'\n",
    "    #                 }\n",
    "    #         },\n",
    "    #     'checkpoint': './expirements/unet_plus_plus_baseline/checkpoint-1000',\n",
    "    # },\n",
    "    # {\n",
    "    #     'model': \n",
    "    #         {\n",
    "    #             'name': 'UnetPlusPlus',\n",
    "    #             'downsample_target': False,\n",
    "    #             'load_args': \n",
    "    #                 {\n",
    "    #                     'pre_trained_name': 'imagenet', \n",
    "    #                     'encoder_name': 'resnet101',\n",
    "    #                 }\n",
    "    #         },\n",
    "    #     'checkpoint': './expirements/unet_plus_plus_resnet101/checkpoint-1000',\n",
    "    # },\n",
    "    {\n",
    "        'model': \n",
    "            {\n",
    "                'name': 'SegformerForSemanticSegmentation',\n",
    "                'downsample_target': False,\n",
    "                'load_args': \n",
    "                {\n",
    "                    'pre_trained_name': 'nvidia/mit-b0'\n",
    "                }\n",
    "            },\n",
    "        'checkpoint': './expirements/segformer_mit-b0/checkpoint-1000',\n",
    "    },       \n",
    "]"
   ]
  },
  {
   "cell_type": "code",
   "execution_count": 3,
   "metadata": {},
   "outputs": [
    {
     "name": "stderr",
     "output_type": "stream",
     "text": [
      "Some weights of the model checkpoint at nvidia/mit-b0 were not used when initializing WrappedSegformerForSemanticSegmentation: ['classifier.weight', 'classifier.bias']\n",
      "- This IS expected if you are initializing WrappedSegformerForSemanticSegmentation from the checkpoint of a model trained on another task or with another architecture (e.g. initializing a BertForSequenceClassification model from a BertForPreTraining model).\n",
      "- This IS NOT expected if you are initializing WrappedSegformerForSemanticSegmentation from the checkpoint of a model that you expect to be exactly identical (initializing a BertForSequenceClassification model from a BertForSequenceClassification model).\n",
      "Some weights of WrappedSegformerForSemanticSegmentation were not initialized from the model checkpoint at nvidia/mit-b0 and are newly initialized: ['decode_head.batch_norm.running_var', 'decode_head.batch_norm.weight', 'decode_head.linear_c.3.proj.bias', 'decode_head.linear_c.0.proj.weight', 'decode_head.classifier.bias', 'decode_head.batch_norm.bias', 'decode_head.batch_norm.num_batches_tracked', 'decode_head.classifier.weight', 'decode_head.linear_c.3.proj.weight', 'decode_head.linear_c.2.proj.bias', 'decode_head.linear_fuse.weight', 'decode_head.linear_c.1.proj.bias', 'decode_head.linear_c.0.proj.bias', 'decode_head.linear_c.2.proj.weight', 'decode_head.batch_norm.running_mean', 'decode_head.linear_c.1.proj.weight']\n",
      "You should probably TRAIN this model on a down-stream task to be able to use it for predictions and inference.\n"
     ]
    },
    {
     "name": "stdout",
     "output_type": "stream",
     "text": [
      "WrappedSegformerForSemanticSegmentation: <All keys matched successfully>\n"
     ]
    },
    {
     "name": "stderr",
     "output_type": "stream",
     "text": [
      "100%|██████████| 196/196 [00:00<00:00, 2202.96it/s]\n",
      "100%|██████████| 196/196 [00:00<00:00, 8880.77it/s]\n"
     ]
    },
    {
     "name": "stdout",
     "output_type": "stream",
     "text": [
      "Warning! dataset/sessile-main-Kvasir-SEG/kavsir_bboxes.json file not found, dataset will be without bboxes\n"
     ]
    },
    {
     "name": "stderr",
     "output_type": "stream",
     "text": [
      "getting predictions: 100%|██████████| 196/196 [00:19<00:00, 10.01it/s]\n"
     ]
    },
    {
     "name": "stdout",
     "output_type": "stream",
     "text": [
      "torch.Size([1, 2, 128, 128]) torch.Size([1, 512, 512])\n"
     ]
    },
    {
     "ename": "AttributeError",
     "evalue": "'builtin_function_or_method' object has no attribute 'shape'",
     "output_type": "error",
     "traceback": [
      "\u001b[0;31m---------------------------------------------------------------------------\u001b[0m",
      "\u001b[0;31mAttributeError\u001b[0m                            Traceback (most recent call last)",
      "Cell \u001b[0;32mIn[3], line 1\u001b[0m\n\u001b[0;32m----> 1\u001b[0m metrics \u001b[39m=\u001b[39m test_models(models\u001b[39m=\u001b[39;49mmodels, resource\u001b[39m=\u001b[39;49m\u001b[39m'\u001b[39;49m\u001b[39m./test_config.yaml\u001b[39;49m\u001b[39m'\u001b[39;49m)\n",
      "File \u001b[0;32m~/Documents/SberBank/TestTask/test.py:80\u001b[0m, in \u001b[0;36mtest_models\u001b[0;34m(models, resource)\u001b[0m\n\u001b[1;32m     77\u001b[0m     test_config[\u001b[39m'\u001b[39m\u001b[39mmodel\u001b[39m\u001b[39m'\u001b[39m] \u001b[39m=\u001b[39m model_params\u001b[39m.\u001b[39mget(\u001b[39m'\u001b[39m\u001b[39mmodel\u001b[39m\u001b[39m'\u001b[39m)\n\u001b[1;32m     78\u001b[0m     test_config[\u001b[39m'\u001b[39m\u001b[39mcheckpoint\u001b[39m\u001b[39m'\u001b[39m] \u001b[39m=\u001b[39m model_params\u001b[39m.\u001b[39mget(\u001b[39m'\u001b[39m\u001b[39mcheckpoint\u001b[39m\u001b[39m'\u001b[39m)\n\u001b[0;32m---> 80\u001b[0m     metrics \u001b[39m=\u001b[39m test_model(test_config)\n\u001b[1;32m     81\u001b[0m     result_metrics\u001b[39m.\u001b[39mappend(metrics)\n\u001b[1;32m     83\u001b[0m \u001b[39mreturn\u001b[39;00m result_metrics\n",
      "File \u001b[0;32m~/Documents/SberBank/TestTask/test.py:50\u001b[0m, in \u001b[0;36mtest_model\u001b[0;34m(resource, return_pred)\u001b[0m\n\u001b[1;32m     47\u001b[0m test_preds \u001b[39m=\u001b[39m torch\u001b[39m.\u001b[39mcat(test_preds, dim\u001b[39m=\u001b[39m\u001b[39m0\u001b[39m)\n\u001b[1;32m     48\u001b[0m test_labels \u001b[39m=\u001b[39m torch\u001b[39m.\u001b[39mcat(test_labels, dim\u001b[39m=\u001b[39m\u001b[39m0\u001b[39m)\n\u001b[0;32m---> 50\u001b[0m metrics \u001b[39m=\u001b[39m compute_metrics([test_preds, test_labels])\n\u001b[1;32m     51\u001b[0m model_params_count \u001b[39m=\u001b[39m count_parameters(model)\n\u001b[1;32m     53\u001b[0m metrics \u001b[39m=\u001b[39m {\n\u001b[1;32m     54\u001b[0m     \u001b[39m'\u001b[39m\u001b[39mmodel_name\u001b[39m\u001b[39m'\u001b[39m: model\u001b[39m.\u001b[39m\u001b[39m__class__\u001b[39m\u001b[39m.\u001b[39m\u001b[39m__name__\u001b[39m,\n\u001b[1;32m     55\u001b[0m     \u001b[39m'\u001b[39m\u001b[39mparams\u001b[39m\u001b[39m'\u001b[39m: model_params_count,\n\u001b[1;32m     56\u001b[0m     \u001b[39m'\u001b[39m\u001b[39mmetrics\u001b[39m\u001b[39m'\u001b[39m: metrics\n\u001b[1;32m     57\u001b[0m }\n",
      "File \u001b[0;32m~/Documents/SberBank/TestTask/src/metrics.py:62\u001b[0m, in \u001b[0;36mComputeMetrics.__call__\u001b[0;34m(self, eval_pred)\u001b[0m\n\u001b[1;32m     59\u001b[0m group_area \u001b[39m=\u001b[39m \u001b[39mself\u001b[39m\u001b[39m.\u001b[39mcompute_group_area_by_target(label)\n\u001b[1;32m     61\u001b[0m \u001b[39mprint\u001b[39m(pred\u001b[39m.\u001b[39mshape, label\u001b[39m.\u001b[39mshape)\n\u001b[0;32m---> 62\u001b[0m \u001b[39mprint\u001b[39m(pred[:, \u001b[39m1\u001b[39m]\u001b[39m.\u001b[39mflatten()\u001b[39m.\u001b[39mshape, label\u001b[39m.\u001b[39;49mflatten\u001b[39m.\u001b[39;49mshape)\n\u001b[1;32m     63\u001b[0m area_groups[group_area][\u001b[39m\"\u001b[39m\u001b[39mdice\u001b[39m\u001b[39m\"\u001b[39m]\u001b[39m.\u001b[39mappend(\n\u001b[1;32m     64\u001b[0m     \u001b[39mself\u001b[39m\u001b[39m.\u001b[39mdice(pred[:, \u001b[39m1\u001b[39m]\u001b[39m.\u001b[39mflatten(), label\u001b[39m.\u001b[39mflatten())\n\u001b[1;32m     65\u001b[0m )\n\u001b[1;32m     67\u001b[0m pred \u001b[39m=\u001b[39m pred\u001b[39m.\u001b[39margmax(dim\u001b[39m=\u001b[39m\u001b[39m1\u001b[39m)\n",
      "\u001b[0;31mAttributeError\u001b[0m: 'builtin_function_or_method' object has no attribute 'shape'"
     ]
    }
   ],
   "source": [
    "metrics = test_models(models=models, resource='./test_config.yaml')"
   ]
  },
  {
   "cell_type": "code",
   "execution_count": null,
   "metadata": {},
   "outputs": [
    {
     "data": {
      "text/plain": [
       "[{'model_name': 'WrappedUnetPlusPlus',\n",
       "  'params': 26078754,\n",
       "  'metrics': {'dice_group_0': 0.9243648,\n",
       "   'iou_group_0': 0.8625277,\n",
       "   'dice_group_1': 0.9665257,\n",
       "   'iou_group_1': 0.9353107,\n",
       "   'dice_group_2': 0.96991986,\n",
       "   'iou_group_2': 0.9418973,\n",
       "   'dice_group_3': 0.96910036,\n",
       "   'iou_group_3': 0.94123316,\n",
       "   'dice_group_4': 0.97895277,\n",
       "   'iou_group_4': 0.9587733,\n",
       "   'dice': 0.93328035,\n",
       "   'iou': 0.8780151}},\n",
       " {'model_name': 'WrappedUnetPlusPlus',\n",
       "  'params': 26078754,\n",
       "  'metrics': {'dice_group_0': 0.9243648,\n",
       "   'iou_group_0': 0.8625277,\n",
       "   'dice_group_1': 0.9665257,\n",
       "   'iou_group_1': 0.9353107,\n",
       "   'dice_group_2': 0.96991986,\n",
       "   'iou_group_2': 0.9418973,\n",
       "   'dice_group_3': 0.96910036,\n",
       "   'iou_group_3': 0.94123316,\n",
       "   'dice_group_4': 0.97895277,\n",
       "   'iou_group_4': 0.9587733,\n",
       "   'dice': 0.93328035,\n",
       "   'iou': 0.8780151}},\n",
       " {'model_name': 'WrappedUnetPlusPlus',\n",
       "  'params': 26078754,\n",
       "  'metrics': {'dice_group_0': 0.9243648,\n",
       "   'iou_group_0': 0.8625277,\n",
       "   'dice_group_1': 0.9665257,\n",
       "   'iou_group_1': 0.9353107,\n",
       "   'dice_group_2': 0.96991986,\n",
       "   'iou_group_2': 0.9418973,\n",
       "   'dice_group_3': 0.96910036,\n",
       "   'iou_group_3': 0.94123316,\n",
       "   'dice_group_4': 0.97895277,\n",
       "   'iou_group_4': 0.9587733,\n",
       "   'dice': 0.93328035,\n",
       "   'iou': 0.8780151}}]"
      ]
     },
     "execution_count": 4,
     "metadata": {},
     "output_type": "execute_result"
    }
   ],
   "source": [
    "metrics"
   ]
  },
  {
   "cell_type": "code",
   "execution_count": 8,
   "metadata": {},
   "outputs": [
    {
     "name": "stdout",
     "output_type": "stream",
     "text": [
      "model                                      dice_group_0                               iou_group_0                                dice_group_1                               iou_group_1                                 dice_group_2                               iou_group_2                                 dice_group_3                                iou_group_3                                 dice_group_4                               iou_group_4                                 dice\n",
      "-----------------------------------------  -----------------------------------------  -----------------------------------------  -----------------------------------------  ------------------------------------------  -----------------------------------------  ------------------------------------------  ------------------------------------------  ------------------------------------------  -----------------------------------------  ------------------------------------------  -----------------------------------------\n",
      "['WrappedUnetPlusPlus (26.1)', 0.9243648]  ['WrappedUnetPlusPlus (26.1)', 0.8625277]  ['WrappedUnetPlusPlus (26.1)', 0.9665257]  ['WrappedUnetPlusPlus (26.1)', 0.9353107]  ['WrappedUnetPlusPlus (26.1)', 0.96991986]  ['WrappedUnetPlusPlus (26.1)', 0.9418973]  ['WrappedUnetPlusPlus (26.1)', 0.96910036]  ['WrappedUnetPlusPlus (26.1)', 0.94123316]  ['WrappedUnetPlusPlus (26.1)', 0.97895277]  ['WrappedUnetPlusPlus (26.1)', 0.9587733]  ['WrappedUnetPlusPlus (26.1)', 0.93328035]  ['WrappedUnetPlusPlus (26.1)', 0.8780151]\n",
      "['WrappedUnetPlusPlus (26.1)', 0.9243648]  ['WrappedUnetPlusPlus (26.1)', 0.8625277]  ['WrappedUnetPlusPlus (26.1)', 0.9665257]  ['WrappedUnetPlusPlus (26.1)', 0.9353107]  ['WrappedUnetPlusPlus (26.1)', 0.96991986]  ['WrappedUnetPlusPlus (26.1)', 0.9418973]  ['WrappedUnetPlusPlus (26.1)', 0.96910036]  ['WrappedUnetPlusPlus (26.1)', 0.94123316]  ['WrappedUnetPlusPlus (26.1)', 0.97895277]  ['WrappedUnetPlusPlus (26.1)', 0.9587733]  ['WrappedUnetPlusPlus (26.1)', 0.93328035]  ['WrappedUnetPlusPlus (26.1)', 0.8780151]\n",
      "['WrappedUnetPlusPlus (26.1)', 0.9243648]  ['WrappedUnetPlusPlus (26.1)', 0.8625277]  ['WrappedUnetPlusPlus (26.1)', 0.9665257]  ['WrappedUnetPlusPlus (26.1)', 0.9353107]  ['WrappedUnetPlusPlus (26.1)', 0.96991986]  ['WrappedUnetPlusPlus (26.1)', 0.9418973]  ['WrappedUnetPlusPlus (26.1)', 0.96910036]  ['WrappedUnetPlusPlus (26.1)', 0.94123316]  ['WrappedUnetPlusPlus (26.1)', 0.97895277]  ['WrappedUnetPlusPlus (26.1)', 0.9587733]  ['WrappedUnetPlusPlus (26.1)', 0.93328035]  ['WrappedUnetPlusPlus (26.1)', 0.8780151]\n"
     ]
    }
   ],
   "source": [
    "from tabulate import tabulate\n",
    "\n",
    "headers = ['model'] + list(metrics[0]['metrics'].keys())\n",
    "table = [[metrics[i]['model_name'] + f' ({metrics[i][\"params\"]/1e+6:.3}M)'] + [f\"{metrics[i]['metrics'][k]:.3}\" for k in headers[1:]] for i in range(len(metrics))]\n",
    "print(tabulate(table, headers=headers))"
   ]
  },
  {
   "cell_type": "code",
   "execution_count": null,
   "metadata": {},
   "outputs": [],
   "source": [
    "test_config"
   ]
  },
  {
   "cell_type": "code",
   "execution_count": null,
   "metadata": {},
   "outputs": [],
   "source": [
    "metrics, pred, labels = test_model('./test_config.yaml', return_pred=False)"
   ]
  },
  {
   "cell_type": "code",
   "execution_count": null,
   "metadata": {},
   "outputs": [],
   "source": [
    "from tabulate import tabulate\n",
    "\n",
    "table = [[k, f'{v:.3}'] for k, v in metrics.items()]\n",
    "print(tabulate(table))"
   ]
  },
  {
   "cell_type": "code",
   "execution_count": null,
   "metadata": {},
   "outputs": [],
   "source": [
    "from PIL import Image\n",
    "from torchvision.transforms import ToPILImage\n",
    "import torch.nn.functional as F\n",
    "to_pill_image = ToPILImage()"
   ]
  },
  {
   "cell_type": "code",
   "execution_count": null,
   "metadata": {},
   "outputs": [],
   "source": [
    "from src.data_utils.dataset import load_dataset\n",
    "\n",
    "test_dataset = load_dataset(r'./test_config.yaml')"
   ]
  },
  {
   "cell_type": "code",
   "execution_count": null,
   "metadata": {},
   "outputs": [],
   "source": [
    "idx = 42\n",
    "\n",
    "logits = pred[idx]\n",
    "target_mask = labels[idx]\n",
    "\n",
    "logits = F.softmax(logits, dim=0)\n",
    "pred_mask = logits.argmax(dim=0)\n",
    "\n",
    "pred_mask_tensor = pred_mask.bool()\n",
    "\n",
    "pred_mask = to_pill_image(pred_mask.float())\n",
    "target_mask = to_pill_image(target_mask.float())\n",
    "\n",
    "# pred_mask.show()\n",
    "# target_mask.show()"
   ]
  },
  {
   "cell_type": "code",
   "execution_count": null,
   "metadata": {},
   "outputs": [],
   "source": [
    "from src.data_utils.utils import plot_mask_over_image\n",
    "\n",
    "data_ = test_dataset.__getitem__(idx)\n",
    "input_ = data_['input']\n",
    "target_ = data_['target'].bool()\n",
    "\n",
    "plot_mask_over_image(input_, target_)\n",
    "plot_mask_over_image(input_, pred_mask_tensor)"
   ]
  },
  {
   "cell_type": "code",
   "execution_count": null,
   "metadata": {},
   "outputs": [],
   "source": [
    "from train import train_setup"
   ]
  },
  {
   "cell_type": "code",
   "execution_count": null,
   "metadata": {},
   "outputs": [],
   "source": [
    "trainer = train_setup(r'./train_config.yaml')"
   ]
  },
  {
   "cell_type": "code",
   "execution_count": null,
   "metadata": {},
   "outputs": [],
   "source": [
    "# set(trainer.train_dataset.data_names).intersection(set(trainer.eval_dataset.data_names))"
   ]
  },
  {
   "cell_type": "code",
   "execution_count": null,
   "metadata": {},
   "outputs": [],
   "source": [
    "trainer.train()"
   ]
  },
  {
   "cell_type": "code",
   "execution_count": null,
   "metadata": {},
   "outputs": [],
   "source": [
    "trainer.evaluate()"
   ]
  },
  {
   "cell_type": "markdown",
   "metadata": {},
   "source": []
  },
  {
   "cell_type": "code",
   "execution_count": null,
   "metadata": {},
   "outputs": [],
   "source": [
    "print(trainer.train_dataset.dataset[0]['input'].shape)\n",
    "trainer.train_dataset.dataset[0]['target'].shape"
   ]
  },
  {
   "cell_type": "code",
   "execution_count": null,
   "metadata": {},
   "outputs": [],
   "source": [
    "print(trainer.eval_dataset[0]['input'].shape)\n",
    "trainer.eval_dataset[0]['target'].shape"
   ]
  },
  {
   "cell_type": "code",
   "execution_count": null,
   "metadata": {},
   "outputs": [],
   "source": [
    "trainer.train_dataset.dataset.augmentator()"
   ]
  },
  {
   "cell_type": "code",
   "execution_count": null,
   "metadata": {},
   "outputs": [],
   "source": []
  }
 ],
 "metadata": {
  "kernelspec": {
   "display_name": "kvasir_seg",
   "language": "python",
   "name": "kvasir_seg"
  },
  "language_info": {
   "codemirror_mode": {
    "name": "ipython",
    "version": 3
   },
   "file_extension": ".py",
   "mimetype": "text/x-python",
   "name": "python",
   "nbconvert_exporter": "python",
   "pygments_lexer": "ipython3",
   "version": "3.9.16"
  },
  "orig_nbformat": 4
 },
 "nbformat": 4,
 "nbformat_minor": 2
}
