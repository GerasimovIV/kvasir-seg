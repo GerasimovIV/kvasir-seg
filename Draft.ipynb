{
 "cells": [
  {
   "cell_type": "code",
   "execution_count": 1,
   "metadata": {},
   "outputs": [],
   "source": [
    "from test import test_models"
   ]
  },
  {
   "cell_type": "code",
   "execution_count": 2,
   "metadata": {},
   "outputs": [],
   "source": [
    "models = [\n",
    "    {\n",
    "        'model': \n",
    "            {\n",
    "                'name': 'UnetPlusPlus',\n",
    "                'downsample_target': False,\n",
    "                'load_args': \n",
    "                    {\n",
    "                        'pre_trained_name': 'imagenet', \n",
    "                        'encoder_name': 'resnet34'\n",
    "                    }\n",
    "            },\n",
    "        'checkpoint': './expirements/unet_plus_plus_baseline/checkpoint-1000',\n",
    "    },\n",
    "    {\n",
    "        'model': \n",
    "            {\n",
    "                'name': 'UnetPlusPlus',\n",
    "                'downsample_target': False,\n",
    "                'load_args': \n",
    "                    {\n",
    "                        'pre_trained_name': 'imagenet', \n",
    "                        'encoder_name': 'resnet101',\n",
    "                    }\n",
    "            },\n",
    "        'checkpoint': './expirements/unet_plus_plus_resnet101/checkpoint-1000',\n",
    "    },\n",
    "    {\n",
    "        'model': \n",
    "            {\n",
    "                'name': 'SegformerForSemanticSegmentation',\n",
    "                'downsample_target': False,\n",
    "                'load_args': \n",
    "                {\n",
    "                    'pre_trained_name': 'nvidia/mit-b0'\n",
    "                }\n",
    "            },\n",
    "        'checkpoint': './expirements/segformer_mit-b0/checkpoint-1000',\n",
    "    },       \n",
    "]"
   ]
  },
  {
   "cell_type": "code",
   "execution_count": 3,
   "metadata": {},
   "outputs": [
    {
     "name": "stdout",
     "output_type": "stream",
     "text": [
      "WrappedUnetPlusPlus: <All keys matched successfully>\n"
     ]
    },
    {
     "name": "stderr",
     "output_type": "stream",
     "text": [
      "100%|██████████| 196/196 [00:00<00:00, 1995.19it/s]\n",
      "100%|██████████| 196/196 [00:00<00:00, 1011.39it/s]\n"
     ]
    },
    {
     "name": "stdout",
     "output_type": "stream",
     "text": [
      "Warning! dataset/sessile-main-Kvasir-SEG/kavsir_bboxes.json file not found, dataset will be without bboxes\n"
     ]
    },
    {
     "name": "stderr",
     "output_type": "stream",
     "text": [
      "getting predictions: 100%|██████████| 196/196 [00:48<00:00,  4.05it/s]\n"
     ]
    },
    {
     "name": "stdout",
     "output_type": "stream",
     "text": [
      "WrappedUnetPlusPlus: <All keys matched successfully>\n"
     ]
    },
    {
     "name": "stderr",
     "output_type": "stream",
     "text": [
      "100%|██████████| 196/196 [00:00<00:00, 5669.85it/s]\n",
      "100%|██████████| 196/196 [00:00<00:00, 5990.60it/s]"
     ]
    },
    {
     "name": "stdout",
     "output_type": "stream",
     "text": [
      "Warning! dataset/sessile-main-Kvasir-SEG/kavsir_bboxes.json file not found, dataset will be without bboxes\n"
     ]
    },
    {
     "name": "stderr",
     "output_type": "stream",
     "text": [
      "\n",
      "getting predictions: 100%|██████████| 196/196 [02:28<00:00,  1.32it/s]\n",
      "Some weights of the model checkpoint at nvidia/mit-b0 were not used when initializing WrappedSegformerForSemanticSegmentation: ['classifier.bias', 'classifier.weight']\n",
      "- This IS expected if you are initializing WrappedSegformerForSemanticSegmentation from the checkpoint of a model trained on another task or with another architecture (e.g. initializing a BertForSequenceClassification model from a BertForPreTraining model).\n",
      "- This IS NOT expected if you are initializing WrappedSegformerForSemanticSegmentation from the checkpoint of a model that you expect to be exactly identical (initializing a BertForSequenceClassification model from a BertForSequenceClassification model).\n",
      "Some weights of WrappedSegformerForSemanticSegmentation were not initialized from the model checkpoint at nvidia/mit-b0 and are newly initialized: ['decode_head.linear_c.1.proj.weight', 'decode_head.batch_norm.num_batches_tracked', 'decode_head.linear_c.2.proj.bias', 'decode_head.linear_fuse.weight', 'decode_head.linear_c.1.proj.bias', 'decode_head.classifier.weight', 'decode_head.linear_c.0.proj.bias', 'decode_head.linear_c.3.proj.bias', 'decode_head.batch_norm.running_var', 'decode_head.batch_norm.bias', 'decode_head.batch_norm.running_mean', 'decode_head.linear_c.2.proj.weight', 'decode_head.batch_norm.weight', 'decode_head.linear_c.0.proj.weight', 'decode_head.classifier.bias', 'decode_head.linear_c.3.proj.weight']\n",
      "You should probably TRAIN this model on a down-stream task to be able to use it for predictions and inference.\n"
     ]
    },
    {
     "name": "stdout",
     "output_type": "stream",
     "text": [
      "WrappedSegformerForSemanticSegmentation: <All keys matched successfully>\n"
     ]
    },
    {
     "name": "stderr",
     "output_type": "stream",
     "text": [
      "100%|██████████| 196/196 [00:00<00:00, 5330.18it/s]\n",
      "100%|██████████| 196/196 [00:00<00:00, 6716.53it/s]\n"
     ]
    },
    {
     "name": "stdout",
     "output_type": "stream",
     "text": [
      "Warning! dataset/sessile-main-Kvasir-SEG/kavsir_bboxes.json file not found, dataset will be without bboxes\n"
     ]
    },
    {
     "name": "stderr",
     "output_type": "stream",
     "text": [
      "getting predictions: 100%|██████████| 196/196 [00:24<00:00,  7.90it/s]\n"
     ]
    }
   ],
   "source": [
    "metrics = test_models(models=models, resource='./test_config.yaml')"
   ]
  },
  {
   "cell_type": "code",
   "execution_count": 4,
   "metadata": {},
   "outputs": [
    {
     "data": {
      "text/plain": [
       "[{'model_name': 'WrappedUnetPlusPlus',\n",
       "  'params': 26078754,\n",
       "  'metrics': {'dice_group_0': 0.9243648,\n",
       "   'iou_group_0': 0.8625277,\n",
       "   'dice_group_1': 0.9665257,\n",
       "   'iou_group_1': 0.9353107,\n",
       "   'dice_group_2': 0.96991986,\n",
       "   'iou_group_2': 0.9418973,\n",
       "   'dice_group_3': 0.96910036,\n",
       "   'iou_group_3': 0.94123316,\n",
       "   'dice_group_4': 0.97895277,\n",
       "   'iou_group_4': 0.9587733,\n",
       "   'dice': 0.93328035,\n",
       "   'iou': 0.8780151}},\n",
       " {'model_name': 'WrappedUnetPlusPlus',\n",
       "  'params': 67978018,\n",
       "  'metrics': {'dice_group_0': 0.9235347,\n",
       "   'iou_group_0': 0.8653163,\n",
       "   'dice_group_1': 0.9641478,\n",
       "   'iou_group_1': 0.9311577,\n",
       "   'dice_group_2': 0.9601024,\n",
       "   'iou_group_2': 0.92562705,\n",
       "   'dice_group_3': 0.9532439,\n",
       "   'iou_group_3': 0.91664535,\n",
       "   'dice_group_4': 0.98535216,\n",
       "   'iou_group_4': 0.9711273,\n",
       "   'dice': 0.93135613,\n",
       "   'iou': 0.87818503}},\n",
       " {'model_name': 'WrappedSegformerForSemanticSegmentation',\n",
       "  'params': 3714658,\n",
       "  'metrics': {'dice_group_0': 0.8775943,\n",
       "   'iou_group_0': 0.79659057,\n",
       "   'dice_group_1': 0.93894064,\n",
       "   'iou_group_1': 0.8866323,\n",
       "   'dice_group_2': 0.9501293,\n",
       "   'iou_group_2': 0.9057271,\n",
       "   'dice_group_3': 0.9508155,\n",
       "   'iou_group_3': 0.9063044,\n",
       "   'dice_group_4': 0.9709115,\n",
       "   'iou_group_4': 0.94346744,\n",
       "   'dice': 0.89121497,\n",
       "   'iou': 0.81683576}}]"
      ]
     },
     "execution_count": 4,
     "metadata": {},
     "output_type": "execute_result"
    }
   ],
   "source": [
    "metrics"
   ]
  },
  {
   "cell_type": "code",
   "execution_count": 8,
   "metadata": {},
   "outputs": [
    {
     "name": "stdout",
     "output_type": "stream",
     "text": [
      "+-------------------------------------------------+--------+----------------+----------------+----------------+----------------+----------------+-------+---------------+---------------+---------------+---------------+---------------+\n",
      "| model                                           |   dice |   dice_group_0 |   dice_group_1 |   dice_group_2 |   dice_group_3 |   dice_group_4 |   iou |   iou_group_0 |   iou_group_1 |   iou_group_2 |   iou_group_3 |   iou_group_4 |\n",
      "+=================================================+========+================+================+================+================+================+=======+===============+===============+===============+===============+===============+\n",
      "| WrappedUnetPlusPlus (26.1M)                     |  0.933 |          0.924 |          0.967 |           0.97 |          0.969 |          0.979 | 0.878 |         0.863 |         0.935 |         0.942 |         0.941 |         0.959 |\n",
      "+-------------------------------------------------+--------+----------------+----------------+----------------+----------------+----------------+-------+---------------+---------------+---------------+---------------+---------------+\n",
      "| WrappedUnetPlusPlus (68.0M)                     |  0.931 |          0.924 |          0.964 |           0.96 |          0.953 |          0.985 | 0.878 |         0.865 |         0.931 |         0.926 |         0.917 |         0.971 |\n",
      "+-------------------------------------------------+--------+----------------+----------------+----------------+----------------+----------------+-------+---------------+---------------+---------------+---------------+---------------+\n",
      "| WrappedSegformerForSemanticSegmentation (3.71M) |  0.891 |          0.878 |          0.939 |           0.95 |          0.951 |          0.971 | 0.817 |         0.797 |         0.887 |         0.906 |         0.906 |         0.943 |\n",
      "+-------------------------------------------------+--------+----------------+----------------+----------------+----------------+----------------+-------+---------------+---------------+---------------+---------------+---------------+\n"
     ]
    }
   ],
   "source": [
    "from tabulate import tabulate\n",
    "\n",
    "head_metrics = list(metrics[0]['metrics'].keys())\n",
    "head_metrics.sort()\n",
    "headers = ['model'] + head_metrics\n",
    "\n",
    "table = [[metrics[i]['model_name'] + f' ({metrics[i][\"params\"]/1e+6:.3}M)'] + [f\"{metrics[i]['metrics'][k]:.3}\" for k in headers[1:]] for i in range(len(metrics))]\n",
    "print(tabulate(table, headers=headers, tablefmt=\"grid\"))"
   ]
  },
  {
   "cell_type": "code",
   "execution_count": null,
   "metadata": {},
   "outputs": [],
   "source": [
    "test_config"
   ]
  },
  {
   "cell_type": "code",
   "execution_count": null,
   "metadata": {},
   "outputs": [],
   "source": [
    "metrics, pred, labels = test_model('./test_config.yaml', return_pred=False)"
   ]
  },
  {
   "cell_type": "code",
   "execution_count": null,
   "metadata": {},
   "outputs": [],
   "source": [
    "from tabulate import tabulate\n",
    "\n",
    "table = [[k, f'{v:.3}'] for k, v in metrics.items()]\n",
    "print(tabulate(table))"
   ]
  },
  {
   "cell_type": "code",
   "execution_count": null,
   "metadata": {},
   "outputs": [],
   "source": [
    "from PIL import Image\n",
    "from torchvision.transforms import ToPILImage\n",
    "import torch.nn.functional as F\n",
    "to_pill_image = ToPILImage()"
   ]
  },
  {
   "cell_type": "code",
   "execution_count": null,
   "metadata": {},
   "outputs": [],
   "source": [
    "from src.data_utils.dataset import load_dataset\n",
    "\n",
    "test_dataset = load_dataset(r'./test_config.yaml')"
   ]
  },
  {
   "cell_type": "code",
   "execution_count": null,
   "metadata": {},
   "outputs": [],
   "source": [
    "idx = 42\n",
    "\n",
    "logits = pred[idx]\n",
    "target_mask = labels[idx]\n",
    "\n",
    "logits = F.softmax(logits, dim=0)\n",
    "pred_mask = logits.argmax(dim=0)\n",
    "\n",
    "pred_mask_tensor = pred_mask.bool()\n",
    "\n",
    "pred_mask = to_pill_image(pred_mask.float())\n",
    "target_mask = to_pill_image(target_mask.float())\n",
    "\n",
    "# pred_mask.show()\n",
    "# target_mask.show()"
   ]
  },
  {
   "cell_type": "code",
   "execution_count": null,
   "metadata": {},
   "outputs": [],
   "source": [
    "from src.data_utils.utils import plot_mask_over_image\n",
    "\n",
    "data_ = test_dataset.__getitem__(idx)\n",
    "input_ = data_['input']\n",
    "target_ = data_['target'].bool()\n",
    "\n",
    "plot_mask_over_image(input_, target_)\n",
    "plot_mask_over_image(input_, pred_mask_tensor)"
   ]
  },
  {
   "cell_type": "code",
   "execution_count": null,
   "metadata": {},
   "outputs": [],
   "source": [
    "from train import train_setup"
   ]
  },
  {
   "cell_type": "code",
   "execution_count": null,
   "metadata": {},
   "outputs": [],
   "source": [
    "trainer = train_setup(r'./train_config.yaml')"
   ]
  },
  {
   "cell_type": "code",
   "execution_count": null,
   "metadata": {},
   "outputs": [],
   "source": [
    "# set(trainer.train_dataset.data_names).intersection(set(trainer.eval_dataset.data_names))"
   ]
  },
  {
   "cell_type": "code",
   "execution_count": null,
   "metadata": {},
   "outputs": [],
   "source": [
    "trainer.train()"
   ]
  },
  {
   "cell_type": "code",
   "execution_count": null,
   "metadata": {},
   "outputs": [],
   "source": [
    "trainer.evaluate()"
   ]
  },
  {
   "cell_type": "markdown",
   "metadata": {},
   "source": []
  },
  {
   "cell_type": "code",
   "execution_count": null,
   "metadata": {},
   "outputs": [],
   "source": [
    "print(trainer.train_dataset.dataset[0]['input'].shape)\n",
    "trainer.train_dataset.dataset[0]['target'].shape"
   ]
  },
  {
   "cell_type": "code",
   "execution_count": null,
   "metadata": {},
   "outputs": [],
   "source": [
    "print(trainer.eval_dataset[0]['input'].shape)\n",
    "trainer.eval_dataset[0]['target'].shape"
   ]
  },
  {
   "cell_type": "code",
   "execution_count": null,
   "metadata": {},
   "outputs": [],
   "source": [
    "trainer.train_dataset.dataset.augmentator()"
   ]
  },
  {
   "cell_type": "code",
   "execution_count": null,
   "metadata": {},
   "outputs": [],
   "source": []
  }
 ],
 "metadata": {
  "kernelspec": {
   "display_name": "kvasir_seg",
   "language": "python",
   "name": "kvasir_seg"
  },
  "language_info": {
   "codemirror_mode": {
    "name": "ipython",
    "version": 3
   },
   "file_extension": ".py",
   "mimetype": "text/x-python",
   "name": "python",
   "nbconvert_exporter": "python",
   "pygments_lexer": "ipython3",
   "version": "3.9.16"
  },
  "orig_nbformat": 4
 },
 "nbformat": 4,
 "nbformat_minor": 2
}
