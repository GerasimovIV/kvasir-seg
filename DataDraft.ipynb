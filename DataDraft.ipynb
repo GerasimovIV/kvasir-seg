{
 "cells": [
  {
   "cell_type": "code",
   "execution_count": 1,
   "metadata": {},
   "outputs": [
    {
     "ename": "ImportError",
     "evalue": "attempted relative import beyond top-level package",
     "output_type": "error",
     "traceback": [
      "\u001b[0;31m---------------------------------------------------------------------------\u001b[0m",
      "\u001b[0;31mImportError\u001b[0m                               Traceback (most recent call last)",
      "Cell \u001b[0;32mIn[1], line 3\u001b[0m\n\u001b[1;32m      1\u001b[0m \u001b[39mimport\u001b[39;00m \u001b[39msys\u001b[39;00m\n\u001b[1;32m      2\u001b[0m sys\u001b[39m.\u001b[39mpath\u001b[39m.\u001b[39mappend(\u001b[39m'\u001b[39m\u001b[39m..\u001b[39m\u001b[39m'\u001b[39m)\n\u001b[0;32m----> 3\u001b[0m \u001b[39mfrom\u001b[39;00m \u001b[39mdata_utils\u001b[39;00m\u001b[39m.\u001b[39;00m\u001b[39mdataset\u001b[39;00m \u001b[39mimport\u001b[39;00m load_datasets\n",
      "File \u001b[0;32m~/Documents/SberBank/TestTask/notebooks/../data_utils/dataset.py:19\u001b[0m\n\u001b[1;32m     16\u001b[0m \u001b[39mfrom\u001b[39;00m \u001b[39m.\u001b[39;00m\u001b[39mutils\u001b[39;00m \u001b[39mimport\u001b[39;00m Augmentator\n\u001b[1;32m     18\u001b[0m \u001b[39mfrom\u001b[39;00m \u001b[39msklearn\u001b[39;00m\u001b[39m.\u001b[39;00m\u001b[39mmodel_selection\u001b[39;00m \u001b[39mimport\u001b[39;00m train_test_split\n\u001b[0;32m---> 19\u001b[0m \u001b[39mfrom\u001b[39;00m \u001b[39m.\u001b[39;00m\u001b[39m.\u001b[39;00m\u001b[39msrc\u001b[39;00m\u001b[39m.\u001b[39;00m\u001b[39mmetrics\u001b[39;00m \u001b[39mimport\u001b[39;00m ComputeMetrics\n\u001b[1;32m     22\u001b[0m \u001b[39mdef\u001b[39;00m \u001b[39mred_bold\u001b[39m(x):\n\u001b[1;32m     23\u001b[0m     \u001b[39mreturn\u001b[39;00m colored(\u001b[39mf\u001b[39m\u001b[39m\"\u001b[39m\u001b[39m{\u001b[39;00mx\u001b[39m}\u001b[39;00m\u001b[39m\"\u001b[39m, \u001b[39m\"\u001b[39m\u001b[39mred\u001b[39m\u001b[39m\"\u001b[39m, attrs\u001b[39m=\u001b[39m[\u001b[39m\"\u001b[39m\u001b[39mbold\u001b[39m\u001b[39m\"\u001b[39m])\n",
      "\u001b[0;31mImportError\u001b[0m: attempted relative import beyond top-level package"
     ]
    }
   ],
   "source": [
    "import sys\n",
    "sys.path.append('..')\n",
    "from data_utils.dataset import load_datasets"
   ]
  },
  {
   "cell_type": "code",
   "execution_count": 2,
   "metadata": {},
   "outputs": [
    {
     "ename": "NameError",
     "evalue": "name 'load_datasets' is not defined",
     "output_type": "error",
     "traceback": [
      "\u001b[0;31m---------------------------------------------------------------------------\u001b[0m",
      "\u001b[0;31mNameError\u001b[0m                                 Traceback (most recent call last)",
      "Cell \u001b[0;32mIn[2], line 1\u001b[0m\n\u001b[0;32m----> 1\u001b[0m train_dataset, test_dataset \u001b[39m=\u001b[39m load_datasets(\u001b[39mr\u001b[39m\u001b[39m'\u001b[39m\u001b[39m../train_config.yaml\u001b[39m\u001b[39m'\u001b[39m)\n",
      "\u001b[0;31mNameError\u001b[0m: name 'load_datasets' is not defined"
     ]
    }
   ],
   "source": [
    "train_dataset, test_dataset = load_datasets(r'../train_config.yaml')"
   ]
  },
  {
   "cell_type": "code",
   "execution_count": 1,
   "metadata": {},
   "outputs": [],
   "source": [
    "\n",
    "\n",
    "from torchvision.transforms import CenterCrop, RandomHorizontalFlip, RandomVerticalFlip\n",
    "import torch\n",
    "import numpy as np\n",
    "import albumentations as A\n",
    "from albumentations.core import transforms_interface\n",
    "import yaml\n",
    "import cv2\n",
    "from data_utils.utils import Augmentator\n",
    "import torchvision.transforms as transforms\n",
    "\n",
    "from data_utils.dataset import KvasirDatasetBase\n",
    "from pathlib import Path\n",
    "from data_utils.utils import plot_mask_over_image\n",
    "# import albumentations.core.transforms_interface.DualTransform as DualTransform"
   ]
  },
  {
   "cell_type": "code",
   "execution_count": 2,
   "metadata": {},
   "outputs": [],
   "source": [
    "path_to_dataset = Path('../dataset/Kvasir-SEG/')"
   ]
  },
  {
   "cell_type": "code",
   "execution_count": 3,
   "metadata": {},
   "outputs": [
    {
     "name": "stderr",
     "output_type": "stream",
     "text": [
      "100%|██████████| 1000/1000 [00:00<00:00, 3583.34it/s]\n",
      "100%|██████████| 1000/1000 [00:00<00:00, 8761.99it/s]"
     ]
    },
    {
     "name": "stdout",
     "output_type": "stream",
     "text": [
      "\u001b[1m\u001b[34m[Augmentator]:\u001b[0m initialization\n"
     ]
    },
    {
     "name": "stderr",
     "output_type": "stream",
     "text": [
      "\n"
     ]
    }
   ],
   "source": [
    "dataset_all = KvasirDatasetBase(root_dir = path_to_dataset, augment_conf={})"
   ]
  },
  {
   "cell_type": "code",
   "execution_count": 4,
   "metadata": {},
   "outputs": [
    {
     "data": {
      "text/plain": [
       "1000"
      ]
     },
     "execution_count": 4,
     "metadata": {},
     "output_type": "execute_result"
    }
   ],
   "source": [
    "len(dataset_all)"
   ]
  },
  {
   "cell_type": "code",
   "execution_count": 5,
   "metadata": {},
   "outputs": [],
   "source": [
    "from torch.utils.data import random_split\n",
    "\n",
    "generator1 = torch.Generator().manual_seed(42)\n",
    "dataset_test, dataset_train = random_split(dataset_all, [150, 850], generator=generator1)"
   ]
  },
  {
   "cell_type": "code",
   "execution_count": 6,
   "metadata": {},
   "outputs": [
    {
     "name": "stdout",
     "output_type": "stream",
     "text": [
      "input: torch.Size([3, 530, 620]), 0.0, 1.0, torch.float32, 302812.5\n",
      "target: torch.Size([530, 620]), False, True, torch.bool, 37424\n"
     ]
    },
    {
     "data": {
      "text/plain": [
       "[tensor([0.1694, 0.3887, 0.5355, 0.9283])]"
      ]
     },
     "execution_count": 6,
     "metadata": {},
     "output_type": "execute_result"
    }
   ],
   "source": [
    "for k, v in dataset_train.__getitem__(0).items():\n",
    "    if isinstance(v, torch.Tensor): print(f'{k}: {v.shape}, {v.min()}, {v.max()}, {v.dtype}, {v.sum()}')\n",
    "\n",
    "data_ = dataset_train.__getitem__(0)\n",
    "input_ = data_['input']\n",
    "target_ = data_['target']\n",
    "bboxes_ = data_['bboxes']\n",
    "\n",
    "plot_mask_over_image(input_, target_)\n",
    "bboxes_"
   ]
  },
  {
   "cell_type": "code",
   "execution_count": 5,
   "metadata": {},
   "outputs": [
    {
     "data": {
      "text/plain": [
       "'cju0qkwl35piu0993l0dewei2'"
      ]
     },
     "execution_count": 5,
     "metadata": {},
     "output_type": "execute_result"
    }
   ],
   "source": [
    "dataset_train.data_names[0]"
   ]
  },
  {
   "cell_type": "code",
   "execution_count": 6,
   "metadata": {},
   "outputs": [],
   "source": [
    "# data = {\n",
    "#     'Resize': {\n",
    "#         'height': 100,\n",
    "#         'width': 100,\n",
    "#         'interpolation': cv2.INTER_LINEAR, \n",
    "#         'p': 1.0\n",
    "#     },\n",
    "#     'HorizontalFlip': {\n",
    "#         'p': 0.5\n",
    "#     },\n",
    "#     'VerticalFlip': {\n",
    "#         'p': 0.5\n",
    "#     },\n",
    "#     'GaussianBlur': {\n",
    "#         'blur_limit': [3, 7],\n",
    "#         'sigma_limit': [0., 0.5],\n",
    "#         'p': 0.5\n",
    "#     },\n",
    "#     'Rotate': {\n",
    "#         'limit': [-90, 90], \n",
    "#         'interpolation': 1, \n",
    "#         'border_mode': 4, \n",
    "#         'mask_value': None, \n",
    "#         'rotate_method': 'largest_box', \n",
    "#         'crop_border': False,\n",
    "#         'p': 0.5\n",
    "#     }\n",
    "    \n",
    "# }\n",
    "\n",
    "# with open(r'../augmentation_config.yaml', 'w') as file:\n",
    "#     documents = yaml.dump(data, file)"
   ]
  }
 ],
 "metadata": {
  "kernelspec": {
   "display_name": "kvasir_seg",
   "language": "python",
   "name": "kvasir_seg"
  },
  "language_info": {
   "codemirror_mode": {
    "name": "ipython",
    "version": 3
   },
   "file_extension": ".py",
   "mimetype": "text/x-python",
   "name": "python",
   "nbconvert_exporter": "python",
   "pygments_lexer": "ipython3",
   "version": "3.9.16"
  },
  "orig_nbformat": 4
 },
 "nbformat": 4,
 "nbformat_minor": 2
}
